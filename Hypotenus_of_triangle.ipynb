{
 "cells": [
  {
   "cell_type": "markdown",
   "metadata": {},
   "source": [
    "**Write a Python program to calculate the hypotenuse of a right angled triangle**"
   ]
  },
  {
   "cell_type": "code",
   "execution_count": 3,
   "metadata": {},
   "outputs": [
    {
     "name": "stdout",
     "output_type": "stream",
     "text": [
      "13.0\n"
     ]
    }
   ],
   "source": [
    "a,b=int(input(\"Enter first side: \")), int(input(\"Enter second side: \"))\n",
    "hypotenus=(a**2+b**2)**0.5\n",
    "print(hypotenus)"
   ]
  },
  {
   "cell_type": "markdown",
   "metadata": {},
   "source": [
    "**Write a Python program to test whether all numbers of a list is greater than a certain number.**"
   ]
  },
  {
   "cell_type": "code",
   "execution_count": null,
   "metadata": {},
   "outputs": [],
   "source": [
    "liste=list(map(int,input(\"Enter your numbers with space: \").split()))\n",
    "num=int(input(\"Enter your number to compare: \"))\n",
    "for i in liste:\n",
    "    if i > num: continue\n",
    "    else: print(f\"All numbers aren't greater than {num}\") \n",
    "    break\n",
    "else: print(f\"All numbers are greater than {num}\")\n",
    "print(liste)"
   ]
  },
  {
   "cell_type": "code",
   "execution_count": null,
   "metadata": {},
   "outputs": [],
   "source": [
    "liste=list(map(int,input(\"Enter your numbers with space: \").split()))\n",
    "num=int(input(\"Enter your number to compare: \"))\n",
    "print(all([i > num for i in liste]))"
   ]
  }
 ],
 "metadata": {
  "interpreter": {
   "hash": "7ab61a255b6867ef474189ae238c336a6eead17191aa9bdb1d8c56064dca81da"
  },
  "kernelspec": {
   "display_name": "Python 3.10.1 64-bit",
   "language": "python",
   "name": "python3"
  },
  "language_info": {
   "codemirror_mode": {
    "name": "ipython",
    "version": 3
   },
   "file_extension": ".py",
   "mimetype": "text/x-python",
   "name": "python",
   "nbconvert_exporter": "python",
   "pygments_lexer": "ipython3",
   "version": "3.10.1"
  },
  "orig_nbformat": 4
 },
 "nbformat": 4,
 "nbformat_minor": 2
}
