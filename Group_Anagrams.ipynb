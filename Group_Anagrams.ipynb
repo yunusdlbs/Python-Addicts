{
 "cells": [
  {
   "cell_type": "code",
   "execution_count": 8,
   "metadata": {},
   "outputs": [
    {
     "name": "stdout",
     "output_type": "stream",
     "text": [
      "[['eat', 'tea', 'ate'], ['tan', 'nat'], ['bat']]\n"
     ]
    }
   ],
   "source": [
    "mylist=[\"eat\", \"tea\", \"tan\", \"ate\", \"nat\", \"bat\"]\n",
    "mydict={}\n",
    "for i in mylist:\n",
    "    word=\"\".join(sorted(i))\n",
    "    if word in mydict:\n",
    "        mydict[word].append(i)  # Here we called value of dictionary (which is list), later append \"i\".\n",
    "    else:\n",
    "        mydict[word]=[i]  #Here we normally added a key-value pair in dictionary....\n",
    "print(list(mydict.values()))\n",
    "        \n",
    "    \n",
    "        "
   ]
  },
  {
   "cell_type": "markdown",
   "metadata": {},
   "source": [
    "**Given 2 arrays of ints, a and b, return True if they have the same first element or they have the same last element. Both arrays will be length 1 or more.**\n",
    "**(Without using for, if, while)**\n",
    "\n",
    "**[1, 2, 3], [7, 3] → True**\n",
    "\n",
    "**[1, 2, 3], [7, 3, 2] → False**\n",
    "\n",
    "**[1, 2, 3], [1, 3] → True**\n"
   ]
  },
  {
   "cell_type": "code",
   "execution_count": null,
   "metadata": {},
   "outputs": [],
   "source": [
    "lista = [1,2,3]\n",
    "listb = [7,3,2]\n",
    "print(lista[0] == listb[0] or lista[-1] == listb[-1])"
   ]
  }
 ],
 "metadata": {
  "interpreter": {
   "hash": "7ab61a255b6867ef474189ae238c336a6eead17191aa9bdb1d8c56064dca81da"
  },
  "kernelspec": {
   "display_name": "Python 3.10.1 64-bit",
   "language": "python",
   "name": "python3"
  },
  "language_info": {
   "codemirror_mode": {
    "name": "ipython",
    "version": 3
   },
   "file_extension": ".py",
   "mimetype": "text/x-python",
   "name": "python",
   "nbconvert_exporter": "python",
   "pygments_lexer": "ipython3",
   "version": "3.10.1"
  },
  "orig_nbformat": 4
 },
 "nbformat": 4,
 "nbformat_minor": 2
}
