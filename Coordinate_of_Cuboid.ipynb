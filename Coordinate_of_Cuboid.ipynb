{
 "cells": [
  {
   "cell_type": "markdown",
   "metadata": {},
   "source": [
    "**You are given three integers  i, j and k representing the dimensions of a cuboid along with an integer n. Print a list of all possible coordinates given by  (i, j, k) on a 3D grid where the sum i + j + k of  is not equal to  n .**\n",
    "\n",
    "**Sample Input 0**\n",
    "\n",
    "**1**\n",
    "\n",
    "**1**\n",
    "\n",
    "**1**\n",
    "\n",
    "**2**\n",
    "\n",
    "**Sample Output 0**\n",
    "\n",
    "**[[0, 0, 0], [0, 0, 1], [0, 1, 0], [1, 0, 0], [1, 1, 1]]**\n",
    "\n",
    "**Print an array of the elements that do not sum to 2 .**"
   ]
  },
  {
   "cell_type": "code",
   "execution_count": null,
   "metadata": {},
   "outputs": [],
   "source": [
    "a=int(input(\"Enter first point: \"))\n",
    "b=int(input(\"Enter second point: \"))\n",
    "c=int(input(\"Enter third point: \"))\n",
    "n=int(input(\"Enter sum number: \"))\n",
    "coordinates=[]\n",
    "for i in range(a+1):\n",
    "    for j in range(b+1):\n",
    "        for k in range(c+1):\n",
    "            if i+j+k != n:\n",
    "                coordinates.append([i, j, k,])   \n",
    "print(coordinates) \n",
    "                "
   ]
  }
 ],
 "metadata": {
  "interpreter": {
   "hash": "7ab61a255b6867ef474189ae238c336a6eead17191aa9bdb1d8c56064dca81da"
  },
  "kernelspec": {
   "display_name": "Python 3.10.1 64-bit",
   "language": "python",
   "name": "python3"
  },
  "language_info": {
   "codemirror_mode": {
    "name": "ipython",
    "version": 3
   },
   "file_extension": ".py",
   "mimetype": "text/x-python",
   "name": "python",
   "nbconvert_exporter": "python",
   "pygments_lexer": "ipython3",
   "version": "3.10.1"
  },
  "orig_nbformat": 4
 },
 "nbformat": 4,
 "nbformat_minor": 2
}
