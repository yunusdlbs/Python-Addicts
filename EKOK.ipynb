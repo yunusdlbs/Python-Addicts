{
 "cells": [
  {
   "cell_type": "markdown",
   "metadata": {},
   "source": [
    "**Kullanıcıdan alınan iki sayının ekokunu bulan program yazınız**"
   ]
  },
  {
   "cell_type": "code",
   "execution_count": null,
   "metadata": {},
   "outputs": [],
   "source": [
    "num1=int(input(\"Enter your first number: \"))\n",
    "num2=int(input(\"Enter your second number: \"))\n",
    "for i in range(max(num1,num2),num1*num2+1):\n",
    "    if not i%num1 and not i%num2:\n",
    "        ekok=i\n",
    "        break\n",
    "print(\"EKOK: \",i)\n",
    "    "
   ]
  },
  {
   "cell_type": "code",
   "execution_count": null,
   "metadata": {},
   "outputs": [],
   "source": [
    "sayi1 =int(input(\"lütfen ilk sayıyı giriniz : \"))\n",
    "sayi2 =int(input(\"lütfen ikinci sayıyı giriniz : \"))\n",
    "for i in range(1,min(sayi1, sayi2) +1):\n",
    "    if (sayi1 % i==0) and (sayi2%i ==0):\n",
    "        ebob = i\n",
    "print(\"Ekok = \", (sayi1*sayi2)//ebob)"
   ]
  },
  {
   "cell_type": "markdown",
   "metadata": {},
   "source": [
    "**Write a Python program to display the examination schedule. (extract the date from exam_st_date).**\n",
    "\n",
    "exam_st_date = (11, 12, 2014)\n",
    "\n",
    "Sample Output : The examination will start from : 11 / 12 / 2014"
   ]
  },
  {
   "cell_type": "code",
   "execution_count": 18,
   "metadata": {},
   "outputs": [
    {
     "name": "stdout",
     "output_type": "stream",
     "text": [
      "Your exam time is on 10 / 1 / 2022.\n"
     ]
    }
   ],
   "source": [
    "exam_st_date=(10,1,2022)\n",
    "print(\"Your exam time is on %i / %i / %i.\"%exam_st_date)"
   ]
  },
  {
   "cell_type": "code",
   "execution_count": null,
   "metadata": {},
   "outputs": [],
   "source": []
  },
  {
   "cell_type": "code",
   "execution_count": null,
   "metadata": {},
   "outputs": [],
   "source": []
  }
 ],
 "metadata": {
  "interpreter": {
   "hash": "e23d1bb8afd48859e3ecdd4eda7b0b0b93096903b1278bf83cb96f7bcb4984ad"
  },
  "kernelspec": {
   "display_name": "Python 3.8.8 64-bit ('base': conda)",
   "language": "python",
   "name": "python3"
  },
  "language_info": {
   "codemirror_mode": {
    "name": "ipython",
    "version": 3
   },
   "file_extension": ".py",
   "mimetype": "text/x-python",
   "name": "python",
   "nbconvert_exporter": "python",
   "pygments_lexer": "ipython3",
   "version": "3.8.8"
  },
  "orig_nbformat": 4
 },
 "nbformat": 4,
 "nbformat_minor": 2
}
