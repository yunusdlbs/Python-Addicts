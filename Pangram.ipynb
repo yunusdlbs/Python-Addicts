{
 "cells": [
  {
   "cell_type": "markdown",
   "metadata": {},
   "source": [
    "**A pangram is a sentence that contains every single letter of the alphabet at least once. For example, the sentence \"The quick brown fox jumps over the lazy dog\" is a pangram, because it uses the letters A-Z at least once (case is irrelevant).\n",
    "Given a string, detect whether or not it is a pangram. Return True if it is, False if not. Ignore numbers and punctuation.**"
   ]
  },
  {
   "cell_type": "code",
   "execution_count": null,
   "metadata": {},
   "outputs": [],
   "source": [
    "import string\n",
    "var1=input(\"Enter your sentence: \").lower().split(\" \")\n",
    "letters=\"\"\n",
    "for i in var1:\n",
    "    letters+=i\n",
    "if set(string.ascii_lowercase)==set(letters): print(\"True\")\n",
    "else: print(\"False\")"
   ]
  },
  {
   "cell_type": "code",
   "execution_count": null,
   "metadata": {},
   "outputs": [],
   "source": [
    "cumle = input(\"\").lower()\n",
    "yeni_cumle = \"\"\n",
    "alpha = \"abcdefghijklmnopqrstuvwxyz\"\n",
    "for i in cumle :\n",
    "  if i.isalpha() :\n",
    "    yeni_cumle += i\n",
    "print(set(alpha) - set(yeni_cumle) == set())"
   ]
  }
 ],
 "metadata": {
  "interpreter": {
   "hash": "4f8a3d2916bacc8bce93e0d81c5aca4767f78ec50220e469d83e7e5124d6c0f3"
  },
  "kernelspec": {
   "display_name": "Python 3.10.1 64-bit",
   "language": "python",
   "name": "python3"
  },
  "language_info": {
   "codemirror_mode": {
    "name": "ipython",
    "version": 3
   },
   "file_extension": ".py",
   "mimetype": "text/x-python",
   "name": "python",
   "nbconvert_exporter": "python",
   "pygments_lexer": "ipython3",
   "version": "3.10.1"
  },
  "orig_nbformat": 4
 },
 "nbformat": 4,
 "nbformat_minor": 2
}
