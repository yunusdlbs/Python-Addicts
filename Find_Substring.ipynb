{
 "cells": [
  {
   "cell_type": "markdown",
   "metadata": {},
   "source": [
    "**Write** **a** **Python** **program** **to** **get** **a string from a given string** **where** **all** **occurrences** of **its** first** *char have been changed to '$', except the first ch**ar **itself**\n",
    "\n",
    "Sample String : 'restart\n",
    "\n",
    "Expected Result : 'resta$t"
   ]
  },
  {
   "cell_type": "code",
   "execution_count": 3,
   "metadata": {},
   "outputs": [
    {
     "name": "stdout",
     "output_type": "stream",
     "text": [
      "resta$te$\n"
     ]
    }
   ],
   "source": [
    "word=input(\"Enter your word: \")\n",
    "new_word=word[0]+word[1:].replace(word[0],\"$\")\n",
    "print(new_word)"
   ]
  },
  {
   "cell_type": "markdown",
   "metadata": {},
   "source": [
    "**Kullanıcan alınan string in içinde yine kullanıcan alınan substring kaç tane var sayma programı**"
   ]
  },
  {
   "cell_type": "code",
   "execution_count": null,
   "metadata": {},
   "outputs": [],
   "source": [
    "long_str=input(\"Enter your long_string: \")\n",
    "sub_str=input(\"Enter your sub_string: \")\n",
    "print(long_str.count(sub_str))\n",
    "#!!!!count methodu birbiriyle kesişen harfleri saymaz o yüzden bu soruda kullanımı uygun değil!!!"
   ]
  },
  {
   "cell_type": "code",
   "execution_count": null,
   "metadata": {},
   "outputs": [],
   "source": [
    "long_str=input(\"Enter your long_string: \")\n",
    "sub_str=input(\"Enter your sub_string: \")\n",
    "counter=0\n",
    "for i in range(len(long_str)):\n",
    "    if sub_str in long_str[i:i+len(sub_str)]:\n",
    "        counter+=1\n",
    "print(counter)"
   ]
  },
  {
   "cell_type": "code",
   "execution_count": null,
   "metadata": {},
   "outputs": [],
   "source": [
    "text = input(\"\")\n",
    "sub_text= input(\"\")\n",
    "count = 0\n",
    "for i in range(len(text)) :\n",
    "  if text[i:i+len(sub_text)] == sub_text :\n",
    "    count += 1\n",
    "print(count)"
   ]
  }
 ],
 "metadata": {
  "interpreter": {
   "hash": "e23d1bb8afd48859e3ecdd4eda7b0b0b93096903b1278bf83cb96f7bcb4984ad"
  },
  "kernelspec": {
   "display_name": "Python 3.8.8 64-bit ('base': conda)",
   "language": "python",
   "name": "python3"
  },
  "language_info": {
   "codemirror_mode": {
    "name": "ipython",
    "version": 3
   },
   "file_extension": ".py",
   "mimetype": "text/x-python",
   "name": "python",
   "nbconvert_exporter": "python",
   "pygments_lexer": "ipython3",
   "version": "3.8.8"
  },
  "orig_nbformat": 4
 },
 "nbformat": 4,
 "nbformat_minor": 2
}
