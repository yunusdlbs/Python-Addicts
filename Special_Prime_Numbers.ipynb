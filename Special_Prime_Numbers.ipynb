{
 "cells": [
  {
   "cell_type": "markdown",
   "metadata": {},
   "source": [
    "**How many of prime numbers until 10,000 prime numbers start with 3 and end with 7?**"
   ]
  },
  {
   "cell_type": "code",
   "execution_count": 8,
   "metadata": {},
   "outputs": [
    {
     "name": "stdout",
     "output_type": "stream",
     "text": [
      "There are 37 prime numbers that start with '3' and end with '7'.\n",
      "[37, 307, 317, 337, 347, 367, 397, 3037, 3067, 3137, 3167, 3187, 3217, 3257, 3307, 3347, 3407, 3457, 3467, 3517, 3527, 3547, 3557, 3607, 3617, 3637, 3677, 3697, 3727, 3767, 3797, 3847, 3877, 3907, 3917, 3947, 3967]\n"
     ]
    }
   ],
   "source": [
    "prime_numbers=[2]\n",
    "for i in range(3,10000):\n",
    "    for j in range(2,i):\n",
    "        if i%j == 0:\n",
    "            break\n",
    "    else: prime_numbers.append(i)\n",
    "count=0\n",
    "wanted_nums=[]\n",
    "for i in prime_numbers:\n",
    "    if str(i).startswith(\"3\") and str(i).endswith(\"7\"):\n",
    "        count+=1\n",
    "        wanted_nums.append(i)\n",
    "    else: continue\n",
    "print(f\"There are {count} prime numbers that start with '3' and end with '7'.\")\n",
    "print(wanted_nums)"
   ]
  },
  {
   "cell_type": "markdown",
   "metadata": {},
   "source": [
    "**How many of the first 10,000 prime numbers start with 3 and end with 7?**"
   ]
  },
  {
   "cell_type": "code",
   "execution_count": null,
   "metadata": {},
   "outputs": [],
   "source": [
    "#Something missing, later deal with it.\n",
    "asal_sayılar = [2]\n",
    "j = 3\n",
    "while len(asal_sayılar)<10000:\n",
    "    for i in range(2,j): \n",
    "        if j % i != 0: continue\n",
    "        else: break\n",
    "    else:\n",
    "        asal_sayılar.append(j)\n",
    "    j+=1\n",
    "\n",
    "print(len([i for i in asal_sayılar if str(i).startswith(\"3\") and str(i).endswith(\"7\")]))"
   ]
  }
 ],
 "metadata": {
  "interpreter": {
   "hash": "7ab61a255b6867ef474189ae238c336a6eead17191aa9bdb1d8c56064dca81da"
  },
  "kernelspec": {
   "display_name": "Python 3.10.1 64-bit",
   "language": "python",
   "name": "python3"
  },
  "language_info": {
   "codemirror_mode": {
    "name": "ipython",
    "version": 3
   },
   "file_extension": ".py",
   "mimetype": "text/x-python",
   "name": "python",
   "nbconvert_exporter": "python",
   "pygments_lexer": "ipython3",
   "version": "3.10.1"
  },
  "orig_nbformat": 4
 },
 "nbformat": 4,
 "nbformat_minor": 2
}
