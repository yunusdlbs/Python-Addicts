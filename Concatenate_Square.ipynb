{
 "cells": [
  {
   "cell_type": "markdown",
   "metadata": {},
   "source": [
    "**Write a program that square every digit of a number and concatenate them.\n",
    "For example, if we run 9119 through the function, 811181 will come out, because 92 is 81 and 12 is 1.**"
   ]
  },
  {
   "cell_type": "code",
   "execution_count": null,
   "metadata": {},
   "outputs": [],
   "source": [
    "num=input(\"Enter your num: \")\n",
    "result=\"\"\n",
    "for i in num:\n",
    "    result+=str(int(i)**2)\n",
    "print(result)"
   ]
  },
  {
   "cell_type": "code",
   "execution_count": null,
   "metadata": {},
   "outputs": [],
   "source": [
    "sayı=input(\"Sayı giriniz: \")\n",
    "print(\"\".join([str(i) for i in [int(i)**2 for i in sayı]]))"
   ]
  },
  {
   "cell_type": "markdown",
   "metadata": {},
   "source": [
    "**Write a program that  given a string and replace every letter with its position in the alphabet.**\n",
    "\n",
    "**If anything in the text isn't a letter, ignore it and don't return it.\n",
    "\"a\" = 1, \"b\" = 2, etc.**\n",
    "\n",
    "**Example alphabet_position(\"The sunset sets at twelve o' clock.\") Should return \"20 8 5 19 21 14 19 5 20 19 5 20 19 1 20 20 23 5 12 22 5 15 3 12 15 3 11\"**"
   ]
  },
  {
   "cell_type": "code",
   "execution_count": null,
   "metadata": {},
   "outputs": [],
   "source": [
    "sentence=input(\"Enter your sentence: \")\n",
    "num_sentences = []\n",
    "for i in sentence:\n",
    "    if i.isalpha():\n",
    "        num_sentences.append(str(ord(i.lower())-96))\n",
    "print(\" \".join(num_sentences))\n",
    "        \n"
   ]
  },
  {
   "cell_type": "code",
   "execution_count": null,
   "metadata": {},
   "outputs": [],
   "source": [
    "alpha = \"abcdefghijklmnopqrstuvwxyz\"\n",
    "string = input(\"\").lower()\n",
    "print(* [alpha.index(i)+1 for i in string if i.isalpha()])"
   ]
  }
 ],
 "metadata": {
  "interpreter": {
   "hash": "7ab61a255b6867ef474189ae238c336a6eead17191aa9bdb1d8c56064dca81da"
  },
  "kernelspec": {
   "display_name": "Python 3.10.1 64-bit",
   "language": "python",
   "name": "python3"
  },
  "language_info": {
   "codemirror_mode": {
    "name": "ipython",
    "version": 3
   },
   "file_extension": ".py",
   "mimetype": "text/x-python",
   "name": "python",
   "nbconvert_exporter": "python",
   "pygments_lexer": "ipython3",
   "version": "3.10.1"
  },
  "orig_nbformat": 4
 },
 "nbformat": 4,
 "nbformat_minor": 2
}
