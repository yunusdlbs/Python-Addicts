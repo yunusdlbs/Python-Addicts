{
 "cells": [
  {
   "cell_type": "markdown",
   "metadata": {},
   "source": [
    "# Try to find out if a number you get from the user is perfect.\n",
    "# A number is called a \"perfect number\" if the sum of its divisors is equal to itself. For example, 6 is a perfect number. (1 + 2 + 3 = 6)"
   ]
  },
  {
   "cell_type": "code",
   "execution_count": null,
   "metadata": {},
   "outputs": [],
   "source": [
    "num=int(input(\"Enter your number: \"))\n",
    "divisor_list=[]\n",
    "for i in range(1,num):\n",
    "    if not num%i: divisor_list.append(i)\n",
    "print(f\"{num} is perfect number\" if sum(divisor_list)==num else f\"{num} isn't perfect number.\")\n",
    "    "
   ]
  },
  {
   "cell_type": "code",
   "execution_count": null,
   "metadata": {},
   "outputs": [],
   "source": [
    "total = 0\n",
    "num = int(input(\"\"))\n",
    "for i in range(1,num) :\n",
    "  if num % i == 0 :\n",
    "    total += i\n",
    "if total == num :\n",
    "  print(\"{} is a perfect number.\".format(num))\n",
    "else:\n",
    "  print(\"{} is not a perfect number.\".format(num))"
   ]
  },
  {
   "cell_type": "code",
   "execution_count": null,
   "metadata": {},
   "outputs": [],
   "source": [
    "num = int(input(\"\"))\n",
    "total = sum([i for i in range(1,num) if num % i == 0])\n",
    "if total == num :\n",
    "  print(\"{} is a perfect number.\".format(num))\n",
    "else:\n",
    "  print(\"{} is not a perfect number.\".format(num))"
   ]
  }
 ],
 "metadata": {
  "interpreter": {
   "hash": "e23d1bb8afd48859e3ecdd4eda7b0b0b93096903b1278bf83cb96f7bcb4984ad"
  },
  "kernelspec": {
   "display_name": "Python 3.8.8 64-bit ('base': conda)",
   "language": "python",
   "name": "python3"
  },
  "language_info": {
   "codemirror_mode": {
    "name": "ipython",
    "version": 3
   },
   "file_extension": ".py",
   "mimetype": "text/x-python",
   "name": "python",
   "nbconvert_exporter": "python",
   "pygments_lexer": "ipython3",
   "version": "3.8.8"
  },
  "orig_nbformat": 4
 },
 "nbformat": 4,
 "nbformat_minor": 2
}
