{
 "cells": [
  {
   "cell_type": "markdown",
   "metadata": {},
   "source": [
    "**\"Loves me, loves me not\" is a traditional game in which a person plucks off all the petals of a flower one by one, saying the phrase \"Loves me\" and \"Loves me not\" when determining whether the one that they love, loves them back.\n",
    "Given a number of petals, return a string which repeats the phrases \"Loves me\" and \"Loves me not\" for every alternating petal, and return the last phrase in all caps. Remember to put a comma and space between phrases.**\n",
    "\n",
    "**INPUT : 3 ➞ \"Loves me, Loves me not, LOVES ME\"**\n",
    "\n",
    "**INPUT : 6 ➞ \"Loves me, Loves me not, Loves me, Loves me not, Loves me, LOVES ME NOT\"**\n",
    "\n",
    "**INPUT : 1 ➞ \"LOVES ME\"**"
   ]
  },
  {
   "cell_type": "code",
   "execution_count": 8,
   "metadata": {},
   "outputs": [
    {
     "name": "stdout",
     "output_type": "stream",
     "text": [
      "['Loves me', 'Loves me not', 'Loves me', 'LOVES ME NOT']\n"
     ]
    }
   ],
   "source": [
    "n=int(input(\"Enter your number: \"))\n",
    "papatya=[\"Loves me\", \"Loves me not\"]\n",
    "papatya_list=[]\n",
    "if n==1: print(papatya[0].upper())\n",
    "else:\n",
    "    for i in range(1,n+1):\n",
    "        if i%2==0: \n",
    "            papatya_list.append(papatya[1])\n",
    "        else: \n",
    "            papatya_list.append(papatya[0])\n",
    "    papatya_list=papatya_list[:-1] + [papatya_list[-1].upper()]\n",
    "    print(papatya_list)"
   ]
  }
 ],
 "metadata": {
  "interpreter": {
   "hash": "7ab61a255b6867ef474189ae238c336a6eead17191aa9bdb1d8c56064dca81da"
  },
  "kernelspec": {
   "display_name": "Python 3.10.1 64-bit",
   "language": "python",
   "name": "python3"
  },
  "language_info": {
   "codemirror_mode": {
    "name": "ipython",
    "version": 3
   },
   "file_extension": ".py",
   "mimetype": "text/x-python",
   "name": "python",
   "nbconvert_exporter": "python",
   "pygments_lexer": "ipython3",
   "version": "3.10.1"
  },
  "orig_nbformat": 4
 },
 "nbformat": 4,
 "nbformat_minor": 2
}
