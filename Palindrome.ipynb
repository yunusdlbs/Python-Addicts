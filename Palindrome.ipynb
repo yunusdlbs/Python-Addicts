{
 "cells": [
  {
   "cell_type": "markdown",
   "metadata": {},
   "source": [
    "**Write a program to check if a given string is a Palindrome.\n",
    "A palindrome reads same from front and back e.g.- aba, ccaacc, mom, etc.**\n",
    "\n",
    "**INPUT:  aba**"
   ]
  },
  {
   "cell_type": "code",
   "execution_count": null,
   "metadata": {},
   "outputs": [],
   "source": [
    "word = input(\"\").lower()\n",
    "print(word[::] == word[::-1])"
   ]
  },
  {
   "cell_type": "code",
   "execution_count": 25,
   "metadata": {},
   "outputs": [
    {
     "name": "stdout",
     "output_type": "stream",
     "text": [
      "azza is palindrome.\n"
     ]
    }
   ],
   "source": [
    "var1=input(\"Enter your variable: \").lower()\n",
    "if (var1[::] == var1[::-1]):\n",
    "    print(f\"{var1} is palindrome.\")\n",
    "else: print(f\"{var1} is not polindrome.\")"
   ]
  },
  {
   "cell_type": "code",
   "execution_count": 39,
   "metadata": {},
   "outputs": [
    {
     "name": "stdout",
     "output_type": "stream",
     "text": [
      "killik is palindrome.\n"
     ]
    }
   ],
   "source": [
    "var2=input(\"Enter your variable: \").lower()\n",
    "j=0\n",
    "for i in var2:\n",
    "    j=j+1\n",
    "    if i==var2[-j]: \n",
    "        continue  \n",
    "    else: \n",
    "        print(f\"{var2} is not polindrome.\") \n",
    "        break        \n",
    "else:\n",
    "    print(f\"{var2} is palindrome.\") "
   ]
  }
 ],
 "metadata": {
  "interpreter": {
   "hash": "7ab61a255b6867ef474189ae238c336a6eead17191aa9bdb1d8c56064dca81da"
  },
  "kernelspec": {
   "display_name": "Python 3.10.1 64-bit",
   "language": "python",
   "name": "python3"
  },
  "language_info": {
   "codemirror_mode": {
    "name": "ipython",
    "version": 3
   },
   "file_extension": ".py",
   "mimetype": "text/x-python",
   "name": "python",
   "nbconvert_exporter": "python",
   "pygments_lexer": "ipython3",
   "version": "3.10.1"
  },
  "orig_nbformat": 4
 },
 "nbformat": 4,
 "nbformat_minor": 2
}
