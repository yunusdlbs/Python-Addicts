{
 "cells": [
  {
   "cell_type": "markdown",
   "metadata": {},
   "source": [
    "**Write a function that takes in a string of one or more words, and returns the same string, but with all five or more letter words reversed .\n",
    "Strings passed in will consist of only letters and spaces.\n",
    "Spaces will be included only when more than one word is present.**\n",
    "\n",
    "**Examples:**\n",
    "\n",
    "**spinWords(\"Hey fellow warriors\") => \"Hey wollef sroirraw\"**\n",
    "\n",
    "**spinWords(\"This is a test\") => \"This is a test\"**\n",
    "\n",
    "**spinWords(\"This is another test\") => \"This is rehtona test\"**"
   ]
  },
  {
   "cell_type": "code",
   "execution_count": null,
   "metadata": {},
   "outputs": [],
   "source": [
    "def spinWords ():\n",
    "    sentence = input(\"Enter your sentence: \").split()\n",
    "    result=[]\n",
    "    for i in sentence:\n",
    "        if len(i) > 5: result.append(i[::-1])\n",
    "        else: result.append(i)\n",
    "    return \" \".join(result)\n",
    "\n",
    "spinWords()"
   ]
  },
  {
   "cell_type": "code",
   "execution_count": null,
   "metadata": {},
   "outputs": [],
   "source": [
    "print(\" \".join([(i if len(i) <= 5 else i[::-1]) for i in input(\"\").split()]))"
   ]
  },
  {
   "cell_type": "code",
   "execution_count": null,
   "metadata": {},
   "outputs": [],
   "source": [
    "def spinWords(string) :\n",
    "    string = string.split()\n",
    "    new_str = []\n",
    "    for i in string :\n",
    "        if len(i) <= 5 :\n",
    "            new_str += [i]\n",
    "        else :\n",
    "            new_str += [i[::-1]]\n",
    "    return \" \".join(new_str)\n",
    "\n",
    "spinWords(\"Hey fellow warriors\")"
   ]
  }
 ],
 "metadata": {
  "interpreter": {
   "hash": "7ab61a255b6867ef474189ae238c336a6eead17191aa9bdb1d8c56064dca81da"
  },
  "kernelspec": {
   "display_name": "Python 3.10.1 64-bit",
   "language": "python",
   "name": "python3"
  },
  "language_info": {
   "codemirror_mode": {
    "name": "ipython",
    "version": 3
   },
   "file_extension": ".py",
   "mimetype": "text/x-python",
   "name": "python",
   "nbconvert_exporter": "python",
   "pygments_lexer": "ipython3",
   "version": "3.10.1"
  },
  "orig_nbformat": 4
 },
 "nbformat": 4,
 "nbformat_minor": 2
}
