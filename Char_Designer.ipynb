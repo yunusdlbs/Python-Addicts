{
 "cells": [
  {
   "cell_type": "markdown",
   "metadata": {},
   "source": [
    "**You are given a string .\n",
    "Your task is to find out if the string  contains: alphanumeric characters, alphabetical characters, digits, lowercase and uppercase characters.**\n",
    "\n",
    "**Input Format**\n",
    "\n",
    "**A single line containing a string .**\n",
    "\n",
    "**Output Format**\n",
    "\n",
    "**In the first line, print True if  has any alphanumeric characters. Otherwise, print False.\n",
    "In the second line, print True if  has any alphabetical characters. Otherwise, print False.\n",
    "In the third line, print True if  has any digits. Otherwise, print False.\n",
    "In the fourth line, print True if  has any lowercase characters. Otherwise, print False.\n",
    "In the fifth line, print True if  has any uppercase characters. Otherwise, print False.**\n",
    "\n",
    "**Sample Input**\n",
    "\n",
    "**qA2**\n",
    "\n",
    "**Sample Output**\n",
    "\n",
    "**True**\n",
    "\n",
    "**True**\n",
    "\n",
    "**True**\n",
    "\n",
    "**True**\n",
    "\n",
    "**True**"
   ]
  },
  {
   "cell_type": "code",
   "execution_count": null,
   "metadata": {},
   "outputs": [],
   "source": [
    "var1=input(\"Enter your expression: \")\n",
    "print(\"There is alphanumeric: \", any(i.isalnum() for i in var1)) \n",
    "print(\"There is alphabetic: \", any(i.isalpha() for i in var1)) \n",
    "print(\"There is digits: \", any(i.isdigit() for i in var1)) \n",
    "print(\"There is lowercase: \", any(i.islower() for i in var1)) \n",
    "print(\"There is uppercase: \", any(i.isupper() for i in var1)) \n"
   ]
  },
  {
   "cell_type": "markdown",
   "metadata": {},
   "source": [
    "**Write a Python function that takes a sequence of numbers and determines whether all the numbers are different from each other**"
   ]
  },
  {
   "cell_type": "code",
   "execution_count": null,
   "metadata": {},
   "outputs": [],
   "source": [
    "nums=list(input(\"Enter your numbers without space: \"))\n",
    "set_nums=set(nums)\n",
    "print(\"Are all numbers different: \", len(set_nums)==len(nums))\n",
    "\n"
   ]
  }
 ],
 "metadata": {
  "interpreter": {
   "hash": "7ab61a255b6867ef474189ae238c336a6eead17191aa9bdb1d8c56064dca81da"
  },
  "kernelspec": {
   "display_name": "Python 3.10.1 64-bit",
   "language": "python",
   "name": "python3"
  },
  "language_info": {
   "codemirror_mode": {
    "name": "ipython",
    "version": 3
   },
   "file_extension": ".py",
   "mimetype": "text/x-python",
   "name": "python",
   "nbconvert_exporter": "python",
   "pygments_lexer": "ipython3",
   "version": "3.10.1"
  },
  "orig_nbformat": 4
 },
 "nbformat": 4,
 "nbformat_minor": 2
}
