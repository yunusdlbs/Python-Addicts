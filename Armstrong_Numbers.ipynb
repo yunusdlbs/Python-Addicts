{
 "cells": [
  {
   "cell_type": "markdown",
   "metadata": {},
   "source": [
    "**A number from the user will be set to be \"Armstrong.\n",
    "For example, if a number has 4 digits and is equal to the 4th (3rd power for 3-digit numbers) of each of its surroundings, this number is called the \"Armstrong\" number.**"
   ]
  },
  {
   "cell_type": "code",
   "execution_count": 2,
   "metadata": {},
   "outputs": [
    {
     "name": "stdout",
     "output_type": "stream",
     "text": [
      "23 isn't Armstrong number.\n"
     ]
    }
   ],
   "source": [
    "sayı=int(input(\"Enter youur number: \"))\n",
    "total=0\n",
    "for i in str(sayı):\n",
    "    total+=int(i)**len(str(sayı))\n",
    "if total==sayı:\n",
    "    print(f\"{sayı} is Armstrong number.\")\n",
    "else: print(f\"{sayı} isn't Armstrong number.\")"
   ]
  },
  {
   "cell_type": "code",
   "execution_count": null,
   "metadata": {},
   "outputs": [],
   "source": [
    "num = input(\"\")\n",
    "toplam = sum([int(i) ** len(num) for i in num])\n",
    "\n",
    "if int(num) == toplam :\n",
    "  print(num, \"is a armstrong number\")\n",
    "else:\n",
    "  print(num, \"is not a armstrong number\")"
   ]
  },
  {
   "cell_type": "markdown",
   "metadata": {},
   "source": [
    "**Write a program to find all the Armstrong numbers present in between two intervals in Python. For example, Armstrong numbers between 100 and 2000.** [153, 370, 371, 407, 1634]"
   ]
  },
  {
   "cell_type": "code",
   "execution_count": null,
   "metadata": {},
   "outputs": [],
   "source": [
    "armstrong_numbers=[]\n",
    "for i in range(100,2001):\n",
    "    toplam = sum([int(j)**len(str(i)) for j in str(i)])\n",
    "    if i == toplam : armstrong_numbers+=[i]\n",
    "    else: continue\n",
    "print(armstrong_numbers)"
   ]
  },
  {
   "cell_type": "code",
   "execution_count": null,
   "metadata": {},
   "outputs": [],
   "source": [
    "lower_num, higher_num = list(map(int, input(\"\").split()))\n",
    "for i in range(lower_num, higher_num+1) :\n",
    "  if sum([int(j) ** len(str(i)) for j in str(i)]) == i :\n",
    "    print(i)"
   ]
  }
 ],
 "metadata": {
  "interpreter": {
   "hash": "e23d1bb8afd48859e3ecdd4eda7b0b0b93096903b1278bf83cb96f7bcb4984ad"
  },
  "kernelspec": {
   "display_name": "Python 3.8.8 64-bit ('base': conda)",
   "language": "python",
   "name": "python3"
  },
  "language_info": {
   "codemirror_mode": {
    "name": "ipython",
    "version": 3
   },
   "file_extension": ".py",
   "mimetype": "text/x-python",
   "name": "python",
   "nbconvert_exporter": "python",
   "pygments_lexer": "ipython3",
   "version": "3.8.8"
  },
  "orig_nbformat": 4
 },
 "nbformat": 4,
 "nbformat_minor": 2
}
