{
 "cells": [
  {
   "cell_type": "markdown",
   "metadata": {},
   "source": [
    "**Write a Python program to create a merged list of tuples from the two lists given.**\n",
    "\n",
    "**For Example:**\n",
    "**İnput:**\n",
    "\n",
    "**list1=[195, 488, 142, 626, 180]**\n",
    "\n",
    "**list2=[\"New York\", \"Alabama\", \"Hawaii\", \"Vermont\", \"West Virginia\"]**\n",
    "\n",
    "**Output:**\n",
    "\n",
    "**list3=[(195, 'New York'), (488, 'Alabama'), (142, 'Hawaii'), (626, 'Vermont'), (180, 'West Virginia')]**"
   ]
  },
  {
   "cell_type": "code",
   "execution_count": 5,
   "metadata": {},
   "outputs": [
    {
     "name": "stdout",
     "output_type": "stream",
     "text": [
      "[(195, 'New York'), (488, 'Alabama'), (142, 'Hawaii'), (626, 'Vermont'), (180, 'West Virginia')]\n"
     ]
    }
   ],
   "source": [
    "list1=[195, 488, 142, 626, 180]\n",
    "list2=[\"New York\", \"Alabama\", \"Hawaii\", \"Vermont\", \"West Virginia\"]\n",
    "list3=[]\n",
    "for i in zip(list1, list2):\n",
    "    list3.append(i)\n",
    "print(list3)\n",
    "    "
   ]
  },
  {
   "cell_type": "code",
   "execution_count": null,
   "metadata": {},
   "outputs": [],
   "source": [
    "list1=[195, 488, 142, 626, 180]\n",
    "list2=[\"New York\", \"Alabama\", \"Hawaii\", \"Vermont\", \"West Virginia\"]\n",
    "\n",
    "new = list(zip(list1, list2))\n",
    "print(new) "
   ]
  },
  {
   "cell_type": "code",
   "execution_count": null,
   "metadata": {},
   "outputs": [],
   "source": [
    "merge_list = []\n",
    "for i in range(0, len(list1)) :\n",
    "  merge_list += [(list1[i], list2[i])]\n",
    "\n",
    "print(merge_list)"
   ]
  }
 ],
 "metadata": {
  "interpreter": {
   "hash": "7ab61a255b6867ef474189ae238c336a6eead17191aa9bdb1d8c56064dca81da"
  },
  "kernelspec": {
   "display_name": "Python 3.10.1 64-bit",
   "language": "python",
   "name": "python3"
  },
  "language_info": {
   "codemirror_mode": {
    "name": "ipython",
    "version": 3
   },
   "file_extension": ".py",
   "mimetype": "text/x-python",
   "name": "python",
   "nbconvert_exporter": "python",
   "pygments_lexer": "ipython3",
   "version": "3.10.1"
  },
  "orig_nbformat": 4
 },
 "nbformat": 4,
 "nbformat_minor": 2
}
