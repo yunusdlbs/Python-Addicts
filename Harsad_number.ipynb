{
 "cells": [
  {
   "cell_type": "markdown",
   "metadata": {},
   "source": [
    "**A number is said to be Harshad if it's exactly divisible by the sum of its digits. Create a code that determines whether a number is a Harshad or not.**\n",
    "\n",
    "**INPUT:75 ➞ OUTPUT:False**\n",
    "\n",
    "**7 + 5 = 12**\n",
    "\n",
    "**75 is not exactly divisible by 12**\n",
    "\n",
    "**INPUT:171 ➞ OUTPUT:True**\n",
    "\n",
    "**1 + 7 + 1 = 9**\n",
    "\n",
    "**9 exactly divides 171**"
   ]
  },
  {
   "cell_type": "code",
   "execution_count": 12,
   "metadata": {},
   "outputs": [
    {
     "name": "stdout",
     "output_type": "stream",
     "text": [
      "True\n"
     ]
    }
   ],
   "source": [
    "num=(input(\"Enter your number: \"))\n",
    "total=sum([int(i) for i in num])\n",
    "print(not(int(num)%total))"
   ]
  },
  {
   "cell_type": "code",
   "execution_count": null,
   "metadata": {},
   "outputs": [],
   "source": [
    "num = input(\"\")\n",
    "print(int(num) % sum([int(i) for i in num]) == 0)"
   ]
  }
 ],
 "metadata": {
  "interpreter": {
   "hash": "7ab61a255b6867ef474189ae238c336a6eead17191aa9bdb1d8c56064dca81da"
  },
  "kernelspec": {
   "display_name": "Python 3.10.1 64-bit",
   "language": "python",
   "name": "python3"
  },
  "language_info": {
   "codemirror_mode": {
    "name": "ipython",
    "version": 3
   },
   "file_extension": ".py",
   "mimetype": "text/x-python",
   "name": "python",
   "nbconvert_exporter": "python",
   "pygments_lexer": "ipython3",
   "version": "3.10.1"
  },
  "orig_nbformat": 4
 },
 "nbformat": 4,
 "nbformat_minor": 2
}
