{
 "cells": [
  {
   "cell_type": "markdown",
   "metadata": {},
   "source": [
    "**Your task is to construct a building which will be a pile of n cubes. The cube at the bottom will have a volume of n^3, the cube above will have volume of (n-1)^3 and so on until the top which will have a volume of 1^3.\n",
    "You are given the total volume m of the building. Being given m can you find the number n of cubes you will have to build?**\n",
    "\n",
    "**The parameter of the function findNb (find_nb, find-nb, findNb, ...) will be an integer m and you have to return the integer n such as n^3 + (n-1)^3 + ... + 1^3 = m if such a n exists or -1 if there is no such n.**\n",
    "\n",
    "**Examples:**\n",
    "\n",
    "**findNb(1071225) --> 45**\n",
    "\n",
    "**findNb(91716553919377) --> -1**\n"
   ]
  },
  {
   "cell_type": "code",
   "execution_count": 3,
   "metadata": {},
   "outputs": [
    {
     "name": "stdout",
     "output_type": "stream",
     "text": [
      "3\n"
     ]
    }
   ],
   "source": [
    "num = int(input(\"\"))\n",
    "toplam = 0\n",
    "count = 0\n",
    "while toplam < num :\n",
    "  count += 1\n",
    "  toplam += count ** 3\n",
    "\n",
    "if toplam == num :\n",
    "  print(count)\n",
    "else:\n",
    "  print(-1)"
   ]
  }
 ],
 "metadata": {
  "interpreter": {
   "hash": "4f8a3d2916bacc8bce93e0d81c5aca4767f78ec50220e469d83e7e5124d6c0f3"
  },
  "kernelspec": {
   "display_name": "Python 3.10.1 64-bit",
   "language": "python",
   "name": "python3"
  },
  "language_info": {
   "codemirror_mode": {
    "name": "ipython",
    "version": 3
   },
   "file_extension": ".py",
   "mimetype": "text/x-python",
   "name": "python",
   "nbconvert_exporter": "python",
   "pygments_lexer": "ipython3",
   "version": "3.10.1"
  },
  "orig_nbformat": 4
 },
 "nbformat": 4,
 "nbformat_minor": 2
}
