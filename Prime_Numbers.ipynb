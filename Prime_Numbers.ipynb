{
 "cells": [
  {
   "cell_type": "markdown",
   "metadata": {},
   "source": [
    "**Given a number N, the task is to print the prime numbers from 1 to N.**\n",
    "\n",
    "**Examples:**\n",
    "\n",
    "**Input: N = 10**\n",
    "\n",
    "**Output: 2, 3, 5, 7**\n",
    "\n",
    "\n",
    "**Input: N = 5**\n",
    "\n",
    "**Output: 2, 3, 5**\n",
    "\n",
    "**A prime number is a natural number greater than 1, which is only divisible by 1 and itself.**"
   ]
  },
  {
   "cell_type": "code",
   "execution_count": 18,
   "metadata": {},
   "outputs": [
    {
     "name": "stdout",
     "output_type": "stream",
     "text": [
      "[2, 3, 5, 7, 11, 13]\n"
     ]
    }
   ],
   "source": [
    "sayi=int(input(\"Enter your number: \"))\n",
    "asal_sayilar=[]\n",
    "if sayi==2: print(\"2 asal sayıdır.\")\n",
    "elif sayi<2: print(\"Girilen sayı 2'den küçük olduğundan bu aralıkta asal sayı yoktur.\")\n",
    "else:\n",
    "    asal_sayilar.append(2)\n",
    "    for i in range(3,sayi+1):\n",
    "        for j in range(2,i):\n",
    "            if i%j!=0: \n",
    "                continue\n",
    "            else: break\n",
    "        else: \n",
    "            asal_sayilar.append(i)\n",
    "    print(asal_sayilar)\n",
    "    "
   ]
  },
  {
   "cell_type": "code",
   "execution_count": 16,
   "metadata": {},
   "outputs": [
    {
     "data": {
      "text/plain": [
       "8"
      ]
     },
     "execution_count": 16,
     "metadata": {},
     "output_type": "execute_result"
    }
   ],
   "source": [
    "prime = [2]\n",
    "n = int(input(\"\"))\n",
    "for i in range(3,n+1) :\n",
    "  for j in range(2,i) :\n",
    "    if i % j == 0 :\n",
    "      break\n",
    "  else :\n",
    "    prime += [i]\n",
    "\n",
    "print(\",\".join([str(k) for k in prime]))"
   ]
  }
 ],
 "metadata": {
  "interpreter": {
   "hash": "7ab61a255b6867ef474189ae238c336a6eead17191aa9bdb1d8c56064dca81da"
  },
  "kernelspec": {
   "display_name": "Python 3.10.1 64-bit",
   "language": "python",
   "name": "python3"
  },
  "language_info": {
   "codemirror_mode": {
    "name": "ipython",
    "version": 3
   },
   "file_extension": ".py",
   "mimetype": "text/x-python",
   "name": "python",
   "nbconvert_exporter": "python",
   "pygments_lexer": "ipython3",
   "version": "3.10.1"
  },
  "orig_nbformat": 4
 },
 "nbformat": 4,
 "nbformat_minor": 2
}
