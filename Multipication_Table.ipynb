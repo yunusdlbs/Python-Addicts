{
 "cells": [
  {
   "cell_type": "markdown",
   "metadata": {},
   "source": [
    "1'den 10'a kadar sayıları içeren çarpım tablosu oluştur.\n",
    "Create Multipication Table from 1 to 10...."
   ]
  },
  {
   "cell_type": "code",
   "execution_count": null,
   "metadata": {},
   "outputs": [],
   "source": [
    "for i in range(11):\n",
    "    for j in range(11):\n",
    "        print(\"{} x {}= {}|\".format(j,i,i*j).center(12),end=\"\")\n",
    "    print()\n",
    "#biraz üzerinde çalışılmalı....\n",
    "    "
   ]
  },
  {
   "cell_type": "code",
   "execution_count": null,
   "metadata": {},
   "outputs": [],
   "source": [
    "j = 1\n",
    "while j <= 10 :\n",
    "  for i in range(1,11) :\n",
    "    if len(str(i))==1 and len(str(j))==1 and len(str(i*j))==1:\n",
    "      print(\" {} x  {} =   {}\".format(i,j,i*j), end = \"|\")\n",
    "    elif len(str(i))==1 and len(str(j))==1 and len(str(i*j))==2:\n",
    "      print(\" {} x  {} =  {}\".format(i,j,i*j), end = \"|\")\n",
    "    elif len(str(i))==2 and len(str(j))==1 and len(str(i*j))==2:\n",
    "      print(\"{} x  {} =  {}\".format(i,j,i*j), end = \"|\")\n",
    "    elif len(str(i))==1 and len(str(j))==2 and len(str(i*j))==2:\n",
    "      print(\" {} x {} =  {}\".format(i,j,i*j), end = \"|\")\n",
    "    elif len(str(i))==2 and len(str(j))==2 and len(str(i*j))==3:\n",
    "      print(\"{} x {} = {}\".format(i,j,i*j), end = \"|\")\n",
    "    else:\n",
    "      print(\" {} x {} ={}\".format(i,j,i*j), end = \"|\")\n",
    "  j += 1\n",
    "  print()"
   ]
  },
  {
   "cell_type": "code",
   "execution_count": 29,
   "metadata": {},
   "outputs": [
    {
     "name": "stdout",
     "output_type": "stream",
     "text": [
      " 1x 1=   1 | 2x 1=   2 | 3x 1=   3 | 4x 1=   4 | 5x 1=   5 | 6x 1=   6 | 7x 1=   7 | 8x 1=   8 | 9x 1=   9 |10x 1=  10 |\n",
      " 1x 2=   2 | 2x 2=   4 | 3x 2=   6 | 4x 2=   8 | 5x 2=  10 | 6x 2=  12 | 7x 2=  14 | 8x 2=  16 | 9x 2=  18 |10x 2=  20 |\n",
      " 1x 3=   3 | 2x 3=   6 | 3x 3=   9 | 4x 3=  12 | 5x 3=  15 | 6x 3=  18 | 7x 3=  21 | 8x 3=  24 | 9x 3=  27 |10x 3=  30 |\n",
      " 1x 4=   4 | 2x 4=   8 | 3x 4=  12 | 4x 4=  16 | 5x 4=  20 | 6x 4=  24 | 7x 4=  28 | 8x 4=  32 | 9x 4=  36 |10x 4=  40 |\n",
      " 1x 5=   5 | 2x 5=  10 | 3x 5=  15 | 4x 5=  20 | 5x 5=  25 | 6x 5=  30 | 7x 5=  35 | 8x 5=  40 | 9x 5=  45 |10x 5=  50 |\n",
      " 1x 6=   6 | 2x 6=  12 | 3x 6=  18 | 4x 6=  24 | 5x 6=  30 | 6x 6=  36 | 7x 6=  42 | 8x 6=  48 | 9x 6=  54 |10x 6=  60 |\n",
      " 1x 7=   7 | 2x 7=  14 | 3x 7=  21 | 4x 7=  28 | 5x 7=  35 | 6x 7=  42 | 7x 7=  49 | 8x 7=  56 | 9x 7=  63 |10x 7=  70 |\n",
      " 1x 8=   8 | 2x 8=  16 | 3x 8=  24 | 4x 8=  32 | 5x 8=  40 | 6x 8=  48 | 7x 8=  56 | 8x 8=  64 | 9x 8=  72 |10x 8=  80 |\n",
      " 1x 9=   9 | 2x 9=  18 | 3x 9=  27 | 4x 9=  36 | 5x 9=  45 | 6x 9=  54 | 7x 9=  63 | 8x 9=  72 | 9x 9=  81 |10x 9=  90 |\n",
      " 1x10=  10 | 2x10=  20 | 3x10=  30 | 4x10=  40 | 5x10=  50 | 6x10=  60 | 7x10=  70 | 8x10=  80 | 9x10=  90 |10x10= 100 |\n"
     ]
    }
   ],
   "source": [
    "for i in range(1,11):\n",
    "    for j in range(1,11):\n",
    "        print(format(j,\"2d\")+\"x\"+format(i,\"2d\")+\"=\",format(i*j,\"3d\"),\"|\", end=\"\")\n",
    "    print()"
   ]
  }
 ],
 "metadata": {
  "interpreter": {
   "hash": "e23d1bb8afd48859e3ecdd4eda7b0b0b93096903b1278bf83cb96f7bcb4984ad"
  },
  "kernelspec": {
   "display_name": "Python 3.8.8 64-bit ('base': conda)",
   "language": "python",
   "name": "python3"
  },
  "language_info": {
   "codemirror_mode": {
    "name": "ipython",
    "version": 3
   },
   "file_extension": ".py",
   "mimetype": "text/x-python",
   "name": "python",
   "nbconvert_exporter": "python",
   "pygments_lexer": "ipython3",
   "version": "3.8.8"
  },
  "orig_nbformat": 4
 },
 "nbformat": 4,
 "nbformat_minor": 2
}
