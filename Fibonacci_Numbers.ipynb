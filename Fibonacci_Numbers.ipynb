{
 "cells": [
  {
   "cell_type": "markdown",
   "metadata": {},
   "source": [
    "**The Fibonacci sequence of numbers is a sequence of numbers whose first two terms are 1 and each subsequent term is the sum of the two preceding terms.**\n",
    "\n",
    "**Print the first 100 Fibonacci numbers to the screen.**\n",
    "\n",
    "**Fibonacci sayı dizisi ilk iki terimi 1 olan ve sonraki her terimi kendisinden önce gelen iki terimin toplamı olan sayı dizisidir. ilk 100 fibonacci sayısını ekrana yazdırınız.**"
   ]
  },
  {
   "cell_type": "code",
   "execution_count": null,
   "metadata": {},
   "outputs": [],
   "source": [
    "fib_numbers=[1,1]\n",
    "for i in range(1,99):\n",
    "    fib_numbers.append(fib_numbers[i]+fib_numbers[i-1])\n",
    "print(len(fib_numbers))\n",
    "print(fib_numbers)"
   ]
  },
  {
   "cell_type": "code",
   "execution_count": null,
   "metadata": {},
   "outputs": [],
   "source": [
    "a,b = 0,1\n",
    "fibonacci = [a,b]\n",
    "for i in range(98) :\n",
    "  a,b = b,a+ b\n",
    "  fibonacci += [b]\n",
    "print(fibonacci[1:])\n",
    "print(len(fibonacci))"
   ]
  }
 ],
 "metadata": {
  "interpreter": {
   "hash": "7ab61a255b6867ef474189ae238c336a6eead17191aa9bdb1d8c56064dca81da"
  },
  "kernelspec": {
   "display_name": "Python 3.10.1 64-bit",
   "language": "python",
   "name": "python3"
  },
  "language_info": {
   "codemirror_mode": {
    "name": "ipython",
    "version": 3
   },
   "file_extension": ".py",
   "mimetype": "text/x-python",
   "name": "python",
   "nbconvert_exporter": "python",
   "pygments_lexer": "ipython3",
   "version": "3.10.1"
  },
  "orig_nbformat": 4
 },
 "nbformat": 4,
 "nbformat_minor": 2
}
