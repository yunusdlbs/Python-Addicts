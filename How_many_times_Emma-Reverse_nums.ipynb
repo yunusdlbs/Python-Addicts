{
 "cells": [
  {
   "cell_type": "markdown",
   "metadata": {},
   "source": [
    "Write a Python program that calculates how many times \"Emma\" is written..."
   ]
  },
  {
   "cell_type": "code",
   "execution_count": null,
   "metadata": {},
   "outputs": [],
   "source": [
    "str_x =\"Emma is a good developer. Emma is writer. By the way emma is a good cook.\"\n",
    "print(\"{} times Emma is written.\".format(str_x.count(\"Emma\")))"
   ]
  },
  {
   "cell_type": "markdown",
   "metadata": {},
   "source": [
    "So it does't accept \"emma\" written with lowercase..."
   ]
  },
  {
   "cell_type": "markdown",
   "metadata": {},
   "source": [
    "**integer formatında verilen sayının döngü kullanmadan aralarında birer boşuk bırakarak tersini yazdıran program**"
   ]
  },
  {
   "cell_type": "code",
   "execution_count": null,
   "metadata": {},
   "outputs": [],
   "source": [
    "numara=int(input(\"Enter your num: \"))\n",
    "print(*str(numara)[::-1])"
   ]
  },
  {
   "cell_type": "code",
   "execution_count": null,
   "metadata": {},
   "outputs": [],
   "source": [
    "num = input(\"please enter a number : \")\n",
    "numlist=list(str(num)[::-1])\n",
    "reserve_num = \" \".join(numlist)\n",
    "reserve_num"
   ]
  },
  {
   "cell_type": "code",
   "execution_count": null,
   "metadata": {},
   "outputs": [],
   "source": [
    "num = 7536\n",
    "print(num % 10, (num % 100 -num % 10 ) // 10, (num % 1000 - num % 100) // 100, (num % 10000 - num % 1000) // 1000)"
   ]
  }
 ],
 "metadata": {
  "interpreter": {
   "hash": "e23d1bb8afd48859e3ecdd4eda7b0b0b93096903b1278bf83cb96f7bcb4984ad"
  },
  "kernelspec": {
   "display_name": "Python 3.8.8 64-bit ('base': conda)",
   "language": "python",
   "name": "python3"
  },
  "language_info": {
   "codemirror_mode": {
    "name": "ipython",
    "version": 3
   },
   "file_extension": ".py",
   "mimetype": "text/x-python",
   "name": "python",
   "nbconvert_exporter": "python",
   "pygments_lexer": "ipython3",
   "version": "3.8.8"
  },
  "orig_nbformat": 4
 },
 "nbformat": 4,
 "nbformat_minor": 2
}
