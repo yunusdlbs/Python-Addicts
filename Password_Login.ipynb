{
 "cells": [
  {
   "cell_type": "markdown",
   "metadata": {},
   "source": [
    "**Lets make a username and password to login an account.\n",
    "Firstly define the username and password then take inputs for this two argument from user.\n",
    "Design python program 3 possibilities that first one is True user name and password, \n",
    "second is wrong username input and third is wrong password input. Then finish with try again output**"
   ]
  },
  {
   "cell_type": "code",
   "execution_count": null,
   "metadata": {},
   "outputs": [],
   "source": [
    "name=input(\"Enter your name: \")\n",
    "password=input(\"Enter your password: \")\n",
    "\n",
    "while True:\n",
    "    if name == \"Yunus\" and password == \"123456\":\n",
    "        print(\"Entered successfully.\")\n",
    "        break\n",
    "    elif name != \"Yunus\" and password != \"123456\":\n",
    "        print(\"Failed to enter. Wrong name and password\")\n",
    "        name=input(\"Enter your name: \")\n",
    "        password=input(\"Enter your password: \")\n",
    "    elif name != \"Yunus\" and password == \"123456\":\n",
    "        print(\"Failed to enter. Wrong password.\")\n",
    "        name=input(\"Enter your name: \")\n",
    "        password=input(\"Enter your password: \")\n",
    "    elif password != \"123456\" and name == \"Yunus\":\n",
    "        print(\"Failed to enter. Wrong name.\")\n",
    "        name=input(\"Enter your name: \")\n",
    "        password=input(\"Enter your password: \")"
   ]
  }
 ],
 "metadata": {
  "interpreter": {
   "hash": "7ab61a255b6867ef474189ae238c336a6eead17191aa9bdb1d8c56064dca81da"
  },
  "kernelspec": {
   "display_name": "Python 3.10.1 64-bit",
   "language": "python",
   "name": "python3"
  },
  "language_info": {
   "codemirror_mode": {
    "name": "ipython",
    "version": 3
   },
   "file_extension": ".py",
   "mimetype": "text/x-python",
   "name": "python",
   "nbconvert_exporter": "python",
   "pygments_lexer": "ipython3",
   "version": "3.10.1"
  },
  "orig_nbformat": 4
 },
 "nbformat": 4,
 "nbformat_minor": 2
}
