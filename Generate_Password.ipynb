{
 "cells": [
  {
   "cell_type": "markdown",
   "metadata": {},
   "source": [
    "Write a Python program that prompts the user to enter his/her full name (without any spaces) and then creates a secret password consisting of three letters (in lowercase) randomly picked up from his/her full name, and a random four-digit number. For example, if the user enters \"JackClarusway\", a secret password can probably be one of \"jcs1578\" or \"yka8832\" or \"awu1250\"."
   ]
  },
  {
   "cell_type": "code",
   "execution_count": 30,
   "metadata": {},
   "outputs": [
    {
     "name": "stdout",
     "output_type": "stream",
     "text": [
      "Your password is: 4uy238s\n"
     ]
    }
   ],
   "source": [
    "import random\n",
    "name=input(\"Enter your full name without space: \").lower()\n",
    "password=\"\"\n",
    "for i in range(3):\n",
    "    num=random.randint(0,len(name)-1)\n",
    "    password+=name[num]\n",
    "password+=str(random.randint(1000,9999))\n",
    "password=list(password)\n",
    "random.shuffle(password)\n",
    "password=\"\".join(password)\n",
    "print(\"Your password is: {}\".format(password))\n",
    "    \n"
   ]
  }
 ],
 "metadata": {
  "interpreter": {
   "hash": "7ab61a255b6867ef474189ae238c336a6eead17191aa9bdb1d8c56064dca81da"
  },
  "kernelspec": {
   "display_name": "Python 3.10.1 64-bit",
   "language": "python",
   "name": "python3"
  },
  "language_info": {
   "codemirror_mode": {
    "name": "ipython",
    "version": 3
   },
   "file_extension": ".py",
   "mimetype": "text/x-python",
   "name": "python",
   "nbconvert_exporter": "python",
   "pygments_lexer": "ipython3",
   "version": "3.10.1"
  },
  "orig_nbformat": 4
 },
 "nbformat": 4,
 "nbformat_minor": 2
}
