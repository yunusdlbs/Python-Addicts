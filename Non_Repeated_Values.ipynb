{
 "cells": [
  {
   "cell_type": "markdown",
   "metadata": {},
   "source": [
    "A book store is trying to find the books that are only left 1 in the stock. They have the book list and they ask you to find the books. You are going to write a computer program that finds the non-repeated values in the list. Also indicate how you have used computational thinking concepts to find the solution.\n",
    "\n",
    "Sample list for the test runs is as follows:\n",
    "\n",
    "products = [\"Pride and Prejudice\", \"To Kill a Mockingbird\", \"The Great Gatsby\",\\\n",
    "\"One Hundred Years of Solitude\", \"Pride and Prejudice\", \"In Cold Blood\", \"Wide Sargasso Sea\",\\\n",
    "\"One Hundred Years of Solitude\", \"Brave New World\",  \"The Great Gatsby\", \"Brave New World\",\\\n",
    "\"I Capture The Castle\", \"Brave New World\", \"The Great Gatsby\", \"The Great Gatsby\",\\\n",
    "\"One Hundred Years of Solitude\", \"Pride and Prejudice\"]\n",
    "\n",
    "Expected Output:\n",
    "To Kill a Mockingbird\n",
    "In Cold Blood\n",
    "Wide Sargasso Sea\n",
    "I Capture The Castle"
   ]
  },
  {
   "cell_type": "code",
   "execution_count": 11,
   "metadata": {},
   "outputs": [
    {
     "name": "stdout",
     "output_type": "stream",
     "text": [
      "In Cold Blood\n",
      "Wide Sargasso Sea\n",
      "To Kill a Mockingbird\n",
      "I Capture The Castle\n"
     ]
    }
   ],
   "source": [
    "products = [\"Pride and Prejudice\", \"To Kill a Mockingbird\", \"The Great Gatsby\",\\\n",
    "\"One Hundred Years of Solitude\", \"Pride and Prejudice\", \"In Cold Blood\", \"Wide Sargasso Sea\",\\\n",
    "\"One Hundred Years of Solitude\", \"Brave New World\",  \"The Great Gatsby\", \"Brave New World\",\\\n",
    "\"I Capture The Castle\", \"Brave New World\", \"The Great Gatsby\", \"The Great Gatsby\",\\\n",
    "\"One Hundred Years of Solitude\", \"Pride and Prejudice\"]\n",
    "\n",
    "non_repeated=[]\n",
    "for i in set(products):\n",
    "    if products.count(i)==1:\n",
    "        non_repeated.append(i)\n",
    "print(\"\\n\".join([i for i in non_repeated]))"
   ]
  }
 ],
 "metadata": {
  "interpreter": {
   "hash": "7ab61a255b6867ef474189ae238c336a6eead17191aa9bdb1d8c56064dca81da"
  },
  "kernelspec": {
   "display_name": "Python 3.10.1 64-bit",
   "language": "python",
   "name": "python3"
  },
  "language_info": {
   "codemirror_mode": {
    "name": "ipython",
    "version": 3
   },
   "file_extension": ".py",
   "mimetype": "text/x-python",
   "name": "python",
   "nbconvert_exporter": "python",
   "pygments_lexer": "ipython3",
   "version": "3.10.1"
  },
  "orig_nbformat": 4
 },
 "nbformat": 4,
 "nbformat_minor": 2
}
