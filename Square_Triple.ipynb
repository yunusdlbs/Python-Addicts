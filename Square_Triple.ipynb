{
 "cells": [
  {
   "cell_type": "code",
   "execution_count": null,
   "metadata": {},
   "outputs": [],
   "source": [
    "**A square triple (a,b,c) is a triple where a, b, and c are integers and a2 + b2 = c2.**\n",
    "\n",
    "**Given an integer n, return the number of square triples such that 1 <= a, b, c <= n.**\n",
    "\n",
    "**Example 1:**\n",
    "**Input: n = 5**\n",
    "\n",
    "**Output: 2**\n",
    "\n",
    "**Explanation: The square triples are (3,4,5) and (4,3,5).**\n",
    "\n",
    "**Example 2:**\n",
    "\n",
    "**Input: n = 10**\n",
    "\n",
    "**Output: 4**\n",
    "\n",
    "**Explanation: The square triples are (3,4,5), (4,3,5), (6,8,10), and (8,6,10).**"
   ]
  },
  {
   "cell_type": "code",
   "execution_count": null,
   "metadata": {},
   "outputs": [],
   "source": [
    "n = int(input(\"\"))\n",
    "counter = 0\n",
    "triples = []\n",
    "for i in range(1,n+1) :\n",
    "  for j in range(1,n+1) :\n",
    "    for k in range(1,n+1) :\n",
    "      if i ** 2 + j ** 2 == k ** 2 :\n",
    "        counter += 1\n",
    "        triples.append([i,j,k])\n",
    "print(counter)\n",
    "print(triples)"
   ]
  },
  {
   "cell_type": "markdown",
   "metadata": {},
   "source": [
    "**in a small town the population is p0 = 1000 at the beginning of a year. The population regularly increases by 2 percent per year and moreover 50 new inhabitants per year come to live in the town. How many years does the town need to see its population greater or equal to p = 1200 inhabitants?**"
   ]
  },
  {
   "cell_type": "code",
   "execution_count": null,
   "metadata": {},
   "outputs": [],
   "source": [
    "population=1000\n",
    "year=0\n",
    "while population<1200:\n",
    "    population=population*1.02+50\n",
    "    year+=1\n",
    "print(year)"
   ]
  }
 ],
 "metadata": {
  "interpreter": {
   "hash": "7ab61a255b6867ef474189ae238c336a6eead17191aa9bdb1d8c56064dca81da"
  },
  "kernelspec": {
   "display_name": "Python 3.10.1 64-bit",
   "language": "python",
   "name": "python3"
  },
  "language_info": {
   "codemirror_mode": {
    "name": "ipython",
    "version": 3
   },
   "file_extension": ".py",
   "mimetype": "text/x-python",
   "name": "python",
   "nbconvert_exporter": "python",
   "pygments_lexer": "ipython3",
   "version": "3.10.1"
  },
  "orig_nbformat": 4
 },
 "nbformat": 4,
 "nbformat_minor": 2
}
