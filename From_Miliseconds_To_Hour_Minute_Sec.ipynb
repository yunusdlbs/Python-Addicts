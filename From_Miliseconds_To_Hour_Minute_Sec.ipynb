{
 "cells": [
  {
   "cell_type": "markdown",
   "metadata": {},
   "source": [
    "Write a Python Program that returns milliseconds to Hour-Minute-Seconds..."
   ]
  },
  {
   "cell_type": "code",
   "execution_count": 12,
   "metadata": {},
   "outputs": [
    {
     "name": "stdout",
     "output_type": "stream",
     "text": [
      "239700 equals to 0 hour 3 minute 59 seconds\n"
     ]
    }
   ],
   "source": [
    "millisecond=int(input(\"Enter your millisecond value: \"))\n",
    "sec=millisecond/1000\n",
    "hour=int(sec//3600)\n",
    "min=int((sec%3600)//60)\n",
    "seconds=int(sec%60)\n",
    "print(f\"{millisecond} equals to {hour} hour {min} minute {seconds} seconds\")"
   ]
  }
 ],
 "metadata": {
  "interpreter": {
   "hash": "7ab61a255b6867ef474189ae238c336a6eead17191aa9bdb1d8c56064dca81da"
  },
  "kernelspec": {
   "display_name": "Python 3.10.1 64-bit",
   "language": "python",
   "name": "python3"
  },
  "language_info": {
   "codemirror_mode": {
    "name": "ipython",
    "version": 3
   },
   "file_extension": ".py",
   "mimetype": "text/x-python",
   "name": "python",
   "nbconvert_exporter": "python",
   "pygments_lexer": "ipython3",
   "version": "3.10.1"
  },
  "orig_nbformat": 4
 },
 "nbformat": 4,
 "nbformat_minor": 2
}
