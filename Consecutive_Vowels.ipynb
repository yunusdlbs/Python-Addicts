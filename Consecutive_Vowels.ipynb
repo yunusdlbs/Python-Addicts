{
 "cells": [
  {
   "cell_type": "markdown",
   "metadata": {},
   "source": [
    "In this coding challenge, you are going to write a program that takes a string and checks if it contains consecutive vowels or not. It should give Positive as an output if it contains consecutive vowels and Negative otherwise. For example saetqi string contains a adjacent to e, which means that it contains consecutive vowels. So it should give Positive as an output. On the other hand, if you take the string of statoqag, the output should be Negative.\n",
    "\n",
    "Expected Output:\n",
    "Please enter a string: gasdph\n",
    "Negative\n",
    "\n",
    "Please enter a string: aiou\n",
    "Positive\n",
    "\n",
    "Please enter a string: taoum\n",
    "Positive\n",
    "\n",
    "Please enter a string: a\n",
    "Negative"
   ]
  },
  {
   "cell_type": "code",
   "execution_count": null,
   "metadata": {},
   "outputs": [],
   "source": [
    "word=input(\"Enter your word: \")\n",
    "vowels=\"aeıioöuü\"\n",
    "for i in range(len(word)-1):\n",
    "    if word[i] in vowels and word[i+1] in vowels:\n",
    "        print(\"Positive\")\n",
    "        break\n",
    "    else: continue\n",
    "else: print(\"Negative\")"
   ]
  }
 ],
 "metadata": {
  "interpreter": {
   "hash": "7ab61a255b6867ef474189ae238c336a6eead17191aa9bdb1d8c56064dca81da"
  },
  "kernelspec": {
   "display_name": "Python 3.10.1 64-bit",
   "language": "python",
   "name": "python3"
  },
  "language_info": {
   "codemirror_mode": {
    "name": "ipython",
    "version": 3
   },
   "file_extension": ".py",
   "mimetype": "text/x-python",
   "name": "python",
   "nbconvert_exporter": "python",
   "pygments_lexer": "ipython3",
   "version": "3.10.1"
  },
  "orig_nbformat": 4
 },
 "nbformat": 4,
 "nbformat_minor": 2
}
