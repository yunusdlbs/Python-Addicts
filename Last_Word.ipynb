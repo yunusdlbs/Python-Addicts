{
 "cells": [
  {
   "cell_type": "markdown",
   "metadata": {},
   "source": [
    "**Given a string s consisting of some words separated by some number of spaces, return the length of the last word in the string.**\n",
    "\n",
    "\n",
    "**A word is a maximal substring consisting of non-space characters only.**\n",
    "\n",
    " \n",
    "\n",
    "**Example 1:**\n",
    "\n",
    "\n",
    "**Input: s = \"Hello World\"**\n",
    "\n",
    "**Output: 5**\n",
    "\n",
    "**Explanation: The last word is \"World\" with length 5.**\n",
    "\n",
    "**Example 2:**\n",
    "\n",
    "\n",
    "**Input: s = \"      fly me     to      the moon    \"**\n",
    "\n",
    "**Output: 4**\n",
    "\n",
    "**Explanation: The last word is \"moon\" with length 4.**\n",
    "\n",
    "**Example 3:**\n",
    "\n",
    "\n",
    "**Input: s = \"luffy is still joyboy\"**\n",
    "\n",
    "**Output: 6**\n",
    "\n",
    "**Explanation: The last word is \"joyboy\" with length 6.**"
   ]
  },
  {
   "cell_type": "code",
   "execution_count": null,
   "metadata": {},
   "outputs": [],
   "source": [
    "sentence=list(input(\"Enter your senctence: \").strip().split())\n",
    "print(f\"Your last word is '{sentence[-1]}' and its length is {len(sentence[-1])}.\")"
   ]
  },
  {
   "cell_type": "code",
   "execution_count": null,
   "metadata": {},
   "outputs": [],
   "source": [
    "s = input(\"\").strip().split()\n",
    "print(len(s[-1]))"
   ]
  }
 ],
 "metadata": {
  "interpreter": {
   "hash": "7ab61a255b6867ef474189ae238c336a6eead17191aa9bdb1d8c56064dca81da"
  },
  "kernelspec": {
   "display_name": "Python 3.10.1 64-bit",
   "language": "python",
   "name": "python3"
  },
  "language_info": {
   "codemirror_mode": {
    "name": "ipython",
    "version": 3
   },
   "file_extension": ".py",
   "mimetype": "text/x-python",
   "name": "python",
   "nbconvert_exporter": "python",
   "pygments_lexer": "ipython3",
   "version": "3.10.1"
  },
  "orig_nbformat": 4
 },
 "nbformat": 4,
 "nbformat_minor": 2
}
