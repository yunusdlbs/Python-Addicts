{
 "cells": [
  {
   "cell_type": "markdown",
   "metadata": {},
   "source": [
    "**Write a Python program to sum of three given integers. However, if two values are equal sum will be zero.**"
   ]
  },
  {
   "cell_type": "code",
   "execution_count": null,
   "metadata": {},
   "outputs": [],
   "source": [
    "num1=int(input(\"Enter your first number: \"))\n",
    "num2=int(input(\"Enter your second number: \"))\n",
    "num3=int(input(\"Enter your third number: \"))\n",
    "print((num1+num2+num3) if num1!=num2 and num1!=num3 and num3!=num2 else 0)"
   ]
  },
  {
   "cell_type": "code",
   "execution_count": null,
   "metadata": {},
   "outputs": [],
   "source": [
    "num =list(map(int, input(\"\").split()))\n",
    "if num[0] == num[1] or num[1] == num[2] or num[0] == num[2] :\n",
    "  print(0)\n",
    "else:\n",
    "  print(sum(num))"
   ]
  },
  {
   "cell_type": "code",
   "execution_count": null,
   "metadata": {},
   "outputs": [],
   "source": []
  }
 ],
 "metadata": {
  "interpreter": {
   "hash": "e23d1bb8afd48859e3ecdd4eda7b0b0b93096903b1278bf83cb96f7bcb4984ad"
  },
  "kernelspec": {
   "display_name": "Python 3.8.8 64-bit ('base': conda)",
   "language": "python",
   "name": "python3"
  },
  "language_info": {
   "codemirror_mode": {
    "name": "ipython",
    "version": 3
   },
   "file_extension": ".py",
   "mimetype": "text/x-python",
   "name": "python",
   "nbconvert_exporter": "python",
   "pygments_lexer": "ipython3",
   "version": "3.8.8"
  },
  "orig_nbformat": 4
 },
 "nbformat": 4,
 "nbformat_minor": 2
}
