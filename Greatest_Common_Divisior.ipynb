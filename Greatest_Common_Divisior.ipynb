{
 "cells": [
  {
   "cell_type": "markdown",
   "metadata": {},
   "source": [
    "**Write a Python program to compute the greatest common divisor (GCD) of two positive integers**"
   ]
  },
  {
   "cell_type": "code",
   "execution_count": 22,
   "metadata": {},
   "outputs": [
    {
     "name": "stdout",
     "output_type": "stream",
     "text": [
      "25 is the greatest common number between 25-100 numbers.\n"
     ]
    }
   ],
   "source": [
    "nums=list(map(int,input(\"Enter two positive numbers: \").split()))\n",
    "for i in range(1,min(nums)+1):\n",
    "    if not nums[0]%i and not nums[1]%i:\n",
    "        greatest=i\n",
    "print(\"{} is the greatest common number between {}-{} numbers.\".format(greatest,nums[0],nums[1]))"
   ]
  },
  {
   "cell_type": "code",
   "execution_count": null,
   "metadata": {},
   "outputs": [],
   "source": [
    "num1 = int(input(\"please enter a number : \"))\n",
    "num2 = int(input(\"please enter a number : \"))\n",
    "if num1 > num2 :\n",
    "  bolen =  num2\n",
    "else:\n",
    "  bolen = num1\n",
    "for i in range(1,bolen+1):\n",
    "  if num1 % i == 0 and num2 % i == 0 :\n",
    "    total = i\n",
    "\n",
    "print(total)"
   ]
  },
  {
   "cell_type": "code",
   "execution_count": null,
   "metadata": {},
   "outputs": [],
   "source": []
  }
 ],
 "metadata": {
  "interpreter": {
   "hash": "e23d1bb8afd48859e3ecdd4eda7b0b0b93096903b1278bf83cb96f7bcb4984ad"
  },
  "kernelspec": {
   "display_name": "Python 3.8.8 64-bit ('base': conda)",
   "language": "python",
   "name": "python3"
  },
  "language_info": {
   "codemirror_mode": {
    "name": "ipython",
    "version": 3
   },
   "file_extension": ".py",
   "mimetype": "text/x-python",
   "name": "python",
   "nbconvert_exporter": "python",
   "pygments_lexer": "ipython3",
   "version": "3.8.8"
  },
  "orig_nbformat": 4
 },
 "nbformat": 4,
 "nbformat_minor": 2
}
