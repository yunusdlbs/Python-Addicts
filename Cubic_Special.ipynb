{
 "cells": [
  {
   "cell_type": "markdown",
   "metadata": {},
   "source": [
    "**How many of the 3-digit numbers are equal to the sum of the cubes of their digits.**\n",
    "\n",
    "**3 basamaklı sayıların kaç tanesi rakamlarının küplerinin toplamına eşittir.**"
   ]
  },
  {
   "cell_type": "code",
   "execution_count": null,
   "metadata": {},
   "outputs": [],
   "source": [
    "special_cubic=[]\n",
    "for x in range(100,1000):\n",
    "    cubic_total=0\n",
    "    for y in str(x):\n",
    "        cubic_total+=int(y)*int(y)*int(y)\n",
    "    if cubic_total==x:\n",
    "        special_cubic.append(x)\n",
    "print(special_cubic)\n",
    "print(f\"We have {len(special_cubic)} special numbers.\")\n",
    "        \n",
    "    "
   ]
  }
 ],
 "metadata": {
  "interpreter": {
   "hash": "7ab61a255b6867ef474189ae238c336a6eead17191aa9bdb1d8c56064dca81da"
  },
  "kernelspec": {
   "display_name": "Python 3.10.1 64-bit",
   "language": "python",
   "name": "python3"
  },
  "language_info": {
   "codemirror_mode": {
    "name": "ipython",
    "version": 3
   },
   "file_extension": ".py",
   "mimetype": "text/x-python",
   "name": "python",
   "nbconvert_exporter": "python",
   "pygments_lexer": "ipython3",
   "version": "3.10.1"
  },
  "orig_nbformat": 4
 },
 "nbformat": 4,
 "nbformat_minor": 2
}
