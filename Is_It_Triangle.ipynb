{
 "cells": [
  {
   "cell_type": "markdown",
   "metadata": {},
   "source": [
    "**If the entered side lengths do not form a triangle, write the code that determines the type of triangle according to the three side information entered by the user. ( In absolute value, the difference of two sides is taken, if the difference is greater than the other side, the entered values ​​do not form a triangle. This is done for all sides.**"
   ]
  },
  {
   "cell_type": "code",
   "execution_count": null,
   "metadata": {},
   "outputs": [],
   "source": [
    "nums=list(map(int,input(\"Enter lenghts of triangle: \").split()))\n",
    "if abs(nums[0]-nums[1])<nums[2] and abs(nums[0]-nums[2])<nums[1] and abs(nums[2]-nums[1])<nums[0]: \n",
    "    print(f\"{nums[0]},{nums[1]} and {nums[2]} makes triagle..\")\n",
    "else: print(\"Please check, it doesn't make triangle...\")"
   ]
  },
  {
   "cell_type": "markdown",
   "metadata": {},
   "source": [
    "**Write a Python program to sum of two given integers. However, if the sum is between 15 to 20 it will return**"
   ]
  },
  {
   "cell_type": "code",
   "execution_count": null,
   "metadata": {},
   "outputs": [],
   "source": [
    "while True:\n",
    "    num1=int(input(\"Enter your 1th number: \"))\n",
    "    num2=int(input(\"Enter your 2nd number: \"))\n",
    "    if num1+num2>=15 and num1+num2<=20:\n",
    "        print(\"Sum of numbers is {} and it is between 15-20. Try again.\".format(num1+num2))     \n",
    "    else:\n",
    "        print(\"Sum of numbers is {}. That is nice.\".format(num1+num2))\n",
    "        break"
   ]
  },
  {
   "cell_type": "code",
   "execution_count": null,
   "metadata": {},
   "outputs": [],
   "source": []
  }
 ],
 "metadata": {
  "interpreter": {
   "hash": "e23d1bb8afd48859e3ecdd4eda7b0b0b93096903b1278bf83cb96f7bcb4984ad"
  },
  "kernelspec": {
   "display_name": "Python 3.8.8 64-bit ('base': conda)",
   "language": "python",
   "name": "python3"
  },
  "language_info": {
   "codemirror_mode": {
    "name": "ipython",
    "version": 3
   },
   "file_extension": ".py",
   "mimetype": "text/x-python",
   "name": "python",
   "nbconvert_exporter": "python",
   "pygments_lexer": "ipython3",
   "version": "3.8.8"
  },
  "orig_nbformat": 4
 },
 "nbformat": 4,
 "nbformat_minor": 2
}
