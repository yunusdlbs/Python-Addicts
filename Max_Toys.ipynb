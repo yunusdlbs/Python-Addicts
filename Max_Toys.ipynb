{
 "cells": [
  {
   "cell_type": "markdown",
   "metadata": {},
   "source": [
    "**Mark and Jane are very happy after having their first child. Their son loves toys, so Mark wants to buy some. There are a number of different toys lying in front of him, tagged with their prices. Mark has only a certain amount to spend, and he wants to maximize the number of toys he buys with this money. Given a list of toy prices and an amount to spend, determine the maximum number of gifts he can buy.**\n",
    "\n",
    "**Note Each toy can be purchased only once.**\n",
    "\n",
    "**Example**\n",
    "\n",
    "\n",
    "The budget is  units of currency. He can buy items that cost  for , or  for  units. The maximum is  items.\n",
    "\n",
    "Function Description\n",
    "\n",
    "Complete the function maximumToys in the editor below.\n",
    "\n",
    "maximumToys has the following parameter(s):\n",
    "\n",
    "int prices[n]: the toy prices\n",
    "int k: Mark's budget\n",
    "Returns\n",
    "\n",
    "int: the maximum number of toys\n",
    "Input Format\n",
    "\n",
    "The first line contains two integers,  and , the number of priced toys and the amount Mark has to spend.\n",
    "The next line contains  space-separated integers \n",
    "\n",
    "Constraints\n",
    "\n",
    "\n",
    "\n",
    "\n",
    "A toy can't be bought multiple times.\n",
    "\n",
    "Sample Input\n",
    "\n",
    "7 50\n",
    "\n",
    "1 12 5 111 200 1000 10\n",
    "\n",
    "Sample Output\n",
    "\n",
    "4\n",
    "Explanation\n",
    "\n",
    "**He can buy only  toys at most. These toys have the following prices: .**"
   ]
  },
  {
   "cell_type": "code",
   "execution_count": null,
   "metadata": {},
   "outputs": [],
   "source": [
    "k=int(input(\"Enter your budget: \"))\n",
    "n=list(map(int,input(\"Enter the prices of toys: \").split()))\n",
    "total=0\n",
    "quantity=0\n",
    "for i in sorted(n):\n",
    "    if total+i<=k:\n",
    "        total+=i\n",
    "        quantity+=1\n",
    "    else:\n",
    "        break\n",
    "print(\"Your budget is {} and prices of toys are {}.\".format(k,n))    \n",
    "print(f\"You can buy {quantity} toys.\")\n"
   ]
  }
 ],
 "metadata": {
  "interpreter": {
   "hash": "7ab61a255b6867ef474189ae238c336a6eead17191aa9bdb1d8c56064dca81da"
  },
  "kernelspec": {
   "display_name": "Python 3.10.1 64-bit",
   "language": "python",
   "name": "python3"
  },
  "language_info": {
   "codemirror_mode": {
    "name": "ipython",
    "version": 3
   },
   "file_extension": ".py",
   "mimetype": "text/x-python",
   "name": "python",
   "nbconvert_exporter": "python",
   "pygments_lexer": "ipython3",
   "version": "3.10.1"
  },
  "orig_nbformat": 4
 },
 "nbformat": 4,
 "nbformat_minor": 2
}
