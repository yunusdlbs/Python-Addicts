{
 "cells": [
  {
   "cell_type": "markdown",
   "metadata": {},
   "source": [
    "**kullanıcının** **girdiği** **hatalı** **karakterleri** **kalın metin**(**rakam** **veya** **özel** **karakterleri**) **temizleyen** **ve**  **sonuçta** \"**Ali** **Demir**\" **gibi** **çıktı** **veren** **bir** **kod** **yazalım** "
   ]
  },
  {
   "cell_type": "code",
   "execution_count": null,
   "metadata": {},
   "outputs": [],
   "source": [
    "sentence=input(\"Enter your sentence or word with space and special char like '*-/+'%&': \")\n",
    "new_sentence=\"\"\n",
    "for i in sentence:\n",
    "    if i.isalnum() or i==' ': new_sentence+=i\n",
    "    else: continue\n",
    "new_sentence= \" \".join([j.capitalize() for j in new_sentence.split()])\n",
    "print(new_sentence)\n"
   ]
  },
  {
   "cell_type": "code",
   "execution_count": null,
   "metadata": {},
   "outputs": [],
   "source": []
  }
 ],
 "metadata": {
  "interpreter": {
   "hash": "e23d1bb8afd48859e3ecdd4eda7b0b0b93096903b1278bf83cb96f7bcb4984ad"
  },
  "kernelspec": {
   "display_name": "Python 3.8.8 64-bit ('base': conda)",
   "language": "python",
   "name": "python3"
  },
  "language_info": {
   "codemirror_mode": {
    "name": "ipython",
    "version": 3
   },
   "file_extension": ".py",
   "mimetype": "text/x-python",
   "name": "python",
   "nbconvert_exporter": "python",
   "pygments_lexer": "ipython3",
   "version": "3.8.8"
  },
  "orig_nbformat": 4
 },
 "nbformat": 4,
 "nbformat_minor": 2
}
