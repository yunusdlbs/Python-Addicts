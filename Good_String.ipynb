{
 "cells": [
  {
   "cell_type": "markdown",
   "metadata": {},
   "source": [
    "**Given a string s, return True if s is a good string, or False otherwise.\n",
    "A string s is good if all the characters that appear in s have the same number of occurrences (i.e., the same frequency).**\n",
    "\n",
    "**Example 1:**\n",
    "\n",
    "**Input: s = \"abacbc\"**\n",
    "\n",
    "**Output: True**\n",
    "\n",
    "**Explanation: The characters that appear in s are 'a', 'b', and 'c'. All characters occur 2 times in s.**\n",
    "\n",
    "**Example 2:**\n",
    "\n",
    "**Input: s = \"aaabb\"**\n",
    "\n",
    "**Output: False**\n",
    "\n",
    "**Explanation: The characters that appear in s are 'a' and 'b'.**\n",
    "\n",
    "**'a' occurs 3 times while 'b' occurs 2 times, which is not the same number of times.**"
   ]
  },
  {
   "cell_type": "code",
   "execution_count": null,
   "metadata": {},
   "outputs": [],
   "source": [
    "string=input(\"Enter your string: \")\n",
    "set_string=set(string)\n",
    "string_list=[]\n",
    "for i in set_string:\n",
    "    string_list.append(string.count(i))\n",
    "print(len(set(string_list))==1)"
   ]
  },
  {
   "cell_type": "code",
   "execution_count": null,
   "metadata": {},
   "outputs": [],
   "source": [
    "s = input(\"\")\n",
    "s_dict = {}\n",
    "for i in s :\n",
    "  if i in s_dict :\n",
    "    s_dict[i] +=1\n",
    "  else :\n",
    "    s_dict[i] = 1\n",
    "print(len(set(s_dict.values())) == 1)"
   ]
  }
 ],
 "metadata": {
  "interpreter": {
   "hash": "7ab61a255b6867ef474189ae238c336a6eead17191aa9bdb1d8c56064dca81da"
  },
  "kernelspec": {
   "display_name": "Python 3.10.1 64-bit",
   "language": "python",
   "name": "python3"
  },
  "language_info": {
   "codemirror_mode": {
    "name": "ipython",
    "version": 3
   },
   "file_extension": ".py",
   "mimetype": "text/x-python",
   "name": "python",
   "nbconvert_exporter": "python",
   "pygments_lexer": "ipython3",
   "version": "3.10.1"
  },
  "orig_nbformat": 4
 },
 "nbformat": 4,
 "nbformat_minor": 2
}
