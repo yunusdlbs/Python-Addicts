{
 "cells": [
  {
   "cell_type": "code",
   "execution_count": 6,
   "metadata": {},
   "outputs": [
    {
     "name": "stdout",
     "output_type": "stream",
     "text": [
      "text1.txt is opened\n",
      "text1.txt is closed\n",
      "text2.txt is opened\n",
      "text2.txt is closed\n",
      "7 31\n",
      "The first text belongs to  Hemingway  and the second one belongs to  Charles Dickens .\n"
     ]
    }
   ],
   "source": [
    "def readFileToStr(filename):\n",
    "    myFile = open(filename+\".txt\", \"r\")\n",
    "    print(filename+\".txt is opened\")\n",
    "    fileStr = myFile.read()\n",
    "    myFile.close()\n",
    "    print(filename+\".txt is closed\")\n",
    "    return fileStr\n",
    "\n",
    "def findEndSentIndex(myStr):\n",
    "    endings = [\"...\", \".\", \":\", \"!\", \"?\"]\n",
    "    idxFirstPunc = 10000 # some arbitrarily large number   \n",
    "    for item in endings:\n",
    "        if item in myStr:\n",
    "            idx = myStr.index(item)\n",
    "            if idx < idxFirstPunc:\n",
    "                idxFirstPunc = idx\n",
    "    return idxFirstPunc\n",
    "\n",
    "def avrSentLen(myStr):\n",
    "    lenSent = 0 # number of words in a sentence\n",
    "    numSent = 0 # total number of sentences\n",
    "\n",
    "    while len(myStr) > 0:\n",
    "        endIndex = findEndSentIndex(myStr)   # find the end of the first sentence\n",
    "        sent = myStr[:endIndex]             # retrieve the first sentence\n",
    "        words = sent.split(\" \")             # split the sentence into words\n",
    "        lenSent += len(words)               # update the number of words\n",
    "        numSent += 1                        # increment the number of  sentences\n",
    "        myStr = myStr[endIndex+1:]          # discard the considered sentence\n",
    "        if myStr[0:2] == \"..\":              # if the punc mark was \"...\"\n",
    "            myStr = myStr[2:]                 # discard the remaining \"..\" in the beginning\n",
    "        \n",
    "    avrSentLen = lenSent // numSent        # calculate the average word lenght\n",
    "    return avrSentLen \n",
    "\n",
    "# MAIN\n",
    "text1 = readFileToStr(\"text1\")\n",
    "text2 = readFileToStr(\"text2\")\n",
    "\n",
    "avrSentLen1 = avrSentLen(text1)\n",
    "avrSentLen2 = avrSentLen(text2)\n",
    "\n",
    "print(avrSentLen1, avrSentLen2)\n",
    "\n",
    "if avrSentLen1 > avrSentLen2:\n",
    "  firstText = \"Charles Dickens\"\n",
    "  secondText = \"Hemingway\"\n",
    "else:\n",
    "  firstText = \"Hemingway\"\n",
    "  secondText = \"Charles Dickens\"\n",
    "\n",
    "print(\"The first text belongs to \", firstText,\" and the second one belongs to \", secondText, \".\")"
   ]
  }
 ],
 "metadata": {
  "interpreter": {
   "hash": "7ab61a255b6867ef474189ae238c336a6eead17191aa9bdb1d8c56064dca81da"
  },
  "kernelspec": {
   "display_name": "Python 3.10.1 64-bit",
   "language": "python",
   "name": "python3"
  },
  "language_info": {
   "codemirror_mode": {
    "name": "ipython",
    "version": 3
   },
   "file_extension": ".py",
   "mimetype": "text/x-python",
   "name": "python",
   "nbconvert_exporter": "python",
   "pygments_lexer": "ipython3",
   "version": "3.10.1"
  },
  "orig_nbformat": 4
 },
 "nbformat": 4,
 "nbformat_minor": 2
}
