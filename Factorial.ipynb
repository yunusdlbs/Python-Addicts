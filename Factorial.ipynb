{
 "cells": [
  {
   "cell_type": "markdown",
   "metadata": {},
   "source": [
    "**Python Program to Find the Factorial of a Number**\n",
    "**The factorial of a number is the product of all the integers from 1 to that number.**\n",
    "**For example, the factorial of 6 is 1*2*3*4*5*6 = 720. Factorial is not defined for negative numbers, and the factorial of zero is one, 0! = 1.**"
   ]
  },
  {
   "cell_type": "code",
   "execution_count": null,
   "metadata": {},
   "outputs": [],
   "source": [
    "num=int(input(\"Enter your number: \"))\n",
    "result=1\n",
    "if num == 0:\n",
    "    print(f\"Factorial of {num} is 1\")\n",
    "elif num < 0: \n",
    "    print(f\"Your number should be equal to zero or greater than 0\")\n",
    "else:\n",
    "    for x in range(1,num+1):\n",
    "        result*=x\n",
    "    print(\"Factorial of {} is {} \".format(num,result))\n",
    "        \n",
    "        "
   ]
  }
 ],
 "metadata": {
  "interpreter": {
   "hash": "7ab61a255b6867ef474189ae238c336a6eead17191aa9bdb1d8c56064dca81da"
  },
  "kernelspec": {
   "display_name": "Python 3.10.1 64-bit",
   "language": "python",
   "name": "python3"
  },
  "language_info": {
   "codemirror_mode": {
    "name": "ipython",
    "version": 3
   },
   "file_extension": ".py",
   "mimetype": "text/x-python",
   "name": "python",
   "nbconvert_exporter": "python",
   "pygments_lexer": "ipython3",
   "version": "3.10.1"
  },
  "orig_nbformat": 4
 },
 "nbformat": 4,
 "nbformat_minor": 2
}
