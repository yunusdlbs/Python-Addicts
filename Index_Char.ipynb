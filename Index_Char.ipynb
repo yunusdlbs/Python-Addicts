{
 "cells": [
  {
   "cell_type": "markdown",
   "metadata": {},
   "source": [
    "**Write a Python dictionary function that takes a string from the user and matches each character in the string with the index number.**\n",
    "\n",
    "**For Example:**\n",
    "\n",
    "**İnput:'clarusway'**\n",
    "\n",
    "**output: {0: 'c', 1: 'l', 2: 'a', 3: 'r', 4: 'u', 5: 's', 6: 'w', 7: 'a', 8: 'y'}**"
   ]
  },
  {
   "cell_type": "code",
   "execution_count": null,
   "metadata": {},
   "outputs": [],
   "source": [
    "var1=input(\"Enter your word: \")\n",
    "result={}\n",
    "for i in range(len(var1)):\n",
    "    result[i]=var1[i]\n",
    "print(result)    "
   ]
  },
  {
   "cell_type": "markdown",
   "metadata": {},
   "source": [
    "**Write a Python function that takes a positive integer and returns the sum of the cube of all the positive integers smaller than the specified number.**"
   ]
  },
  {
   "cell_type": "code",
   "execution_count": null,
   "metadata": {},
   "outputs": [],
   "source": [
    "num=int(input(\"Enter a positive number: \"))\n",
    "total=0\n",
    "for i in range(1,num):\n",
    "    total+=i**3\n",
    "    \n",
    "print(f\"Total cube of all numbers until {num} is {total}.\")"
   ]
  },
  {
   "cell_type": "code",
   "execution_count": null,
   "metadata": {},
   "outputs": [],
   "source": [
    "num=int(input(\"Enter a positive number: \"))\n",
    "total=sum ([i**3 for i in range(1,num)])\n",
    "print(total)"
   ]
  },
  {
   "cell_type": "markdown",
   "metadata": {},
   "source": [
    "**Write a Python program to remove and print every third number from a list of numbers until the list becomes empty.**"
   ]
  },
  {
   "cell_type": "code",
   "execution_count": null,
   "metadata": {},
   "outputs": [],
   "source": [
    "liste = [1 ,2 ,3 ,4 ,5 ,6 ,7 ,8 ,9]\n",
    "indeks = 0\n",
    "uzunluk = len(liste)\n",
    "while len(liste) > 0 :\n",
    "  indeks = (2 + indeks) % uzunluk\n",
    "  liste.pop(indeks)\n",
    "  print(liste)\n",
    "  uzunluk -= 1"
   ]
  }
 ],
 "metadata": {
  "interpreter": {
   "hash": "7ab61a255b6867ef474189ae238c336a6eead17191aa9bdb1d8c56064dca81da"
  },
  "kernelspec": {
   "display_name": "Python 3.10.1 64-bit",
   "language": "python",
   "name": "python3"
  },
  "language_info": {
   "codemirror_mode": {
    "name": "ipython",
    "version": 3
   },
   "file_extension": ".py",
   "mimetype": "text/x-python",
   "name": "python",
   "nbconvert_exporter": "python",
   "pygments_lexer": "ipython3",
   "version": "3.10.1"
  },
  "orig_nbformat": 4
 },
 "nbformat": 4,
 "nbformat_minor": 2
}
