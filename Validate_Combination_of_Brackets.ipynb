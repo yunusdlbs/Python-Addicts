{
 "cells": [
  {
   "cell_type": "markdown",
   "metadata": {},
   "source": [
    "Write a function that given a string containing just the characters (, ), {, }, [ and ], determines if the input string is valid or not by using following rules.\n",
    "\n",
    "Input           Output\n",
    "------------    ------\n",
    "\"()\"            true\n",
    "\"()[]{}\"        true\n",
    "\"(]\"            false\n",
    "\"([)]\"          false\n",
    "\"{[]}\"          true\n",
    "\"\"              true"
   ]
  },
  {
   "cell_type": "code",
   "execution_count": null,
   "metadata": {},
   "outputs": [],
   "source": [
    "expression=input(\"Enter your expression: \")\n",
    "symbols=[\"{}\", \"()\", \"[]\"]\n",
    "\n",
    "while \"{}\" in expression or \"()\" in expression or \"[]\" in expression:\n",
    "    for i in symbols:\n",
    "        if i in expression:\n",
    "            expression=expression.replace(i,\"\")\n",
    "if expression: print(\"false\")\n",
    "else: print(\"true\")\n",
    "print(expression)"
   ]
  },
  {
   "cell_type": "code",
   "execution_count": null,
   "metadata": {},
   "outputs": [],
   "source": [
    "def isValid(s):\n",
    "      bracket_map = {\"(\": \")\", \"[\": \"]\",  \"{\": \"}\"}\n",
    "  open_par = set([\"(\", \"[\", \"{\"])\n",
    "  stack = []\n",
    "  for i in s:\n",
    "    if i in open_par:\n",
    "        stack.append(i)\n",
    "    elif stack and i == bracket_map[stack[-1]]:\n",
    "        stack.pop()\n",
    "    else:\n",
    "        return False\n",
    "  return stack == []\n",
    "\n",
    "combination = input('Write a string that contains only `(`, `)`, `{`, `}`, `[` and `]`: ')\n",
    "print(isValid(combination))"
   ]
  }
 ],
 "metadata": {
  "interpreter": {
   "hash": "7ab61a255b6867ef474189ae238c336a6eead17191aa9bdb1d8c56064dca81da"
  },
  "kernelspec": {
   "display_name": "Python 3.10.1 64-bit",
   "language": "python",
   "name": "python3"
  },
  "language_info": {
   "codemirror_mode": {
    "name": "ipython",
    "version": 3
   },
   "file_extension": ".py",
   "mimetype": "text/x-python",
   "name": "python",
   "nbconvert_exporter": "python",
   "pygments_lexer": "ipython3",
   "version": "3.10.1"
  },
  "orig_nbformat": 4
 },
 "nbformat": 4,
 "nbformat_minor": 2
}
