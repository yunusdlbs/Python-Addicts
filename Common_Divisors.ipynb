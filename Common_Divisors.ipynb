{
 "cells": [
  {
   "cell_type": "markdown",
   "metadata": {},
   "source": [
    "**kullanıcıdan alınan iki sayının ortak bölenlerini yazdıran bir program yazınız**"
   ]
  },
  {
   "cell_type": "code",
   "execution_count": 5,
   "metadata": {},
   "outputs": [
    {
     "name": "stdout",
     "output_type": "stream",
     "text": [
      "[1, 2, 5, 10]\n"
     ]
    }
   ],
   "source": [
    "nums=list(map(int,input(\"Enter your two numbers: \").split()))\n",
    "common_divisors=[]\n",
    "for i in range(1,min(nums)+1):\n",
    "    if nums[0]%i==0 and nums[1]%i==0: common_divisors+=[i]\n",
    "print(common_divisors)\n"
   ]
  },
  {
   "cell_type": "code",
   "execution_count": 7,
   "metadata": {},
   "outputs": [
    {
     "name": "stdout",
     "output_type": "stream",
     "text": [
      "{1, 2, 3, 5}\n"
     ]
    }
   ],
   "source": [
    "num1 = int(input(\"please enter first number :\"))\n",
    "num2 = int(input(\"please enter second number :\"))\n",
    "toplam = []\n",
    "\n",
    "for i in range(1,num1+1) :\n",
    "  if num1 % i == 0:\n",
    "    toplam += [i]\n",
    "    num1 = num1 // i\n",
    "for j in range(1,num2+1) :\n",
    "  if num2 % j == 0:\n",
    "    toplam += [j]\n",
    "    num2 = num2 // j\n",
    "print(set(toplam))"
   ]
  }
 ],
 "metadata": {
  "interpreter": {
   "hash": "e23d1bb8afd48859e3ecdd4eda7b0b0b93096903b1278bf83cb96f7bcb4984ad"
  },
  "kernelspec": {
   "display_name": "Python 3.8.8 64-bit ('base': conda)",
   "language": "python",
   "name": "python3"
  },
  "language_info": {
   "codemirror_mode": {
    "name": "ipython",
    "version": 3
   },
   "file_extension": ".py",
   "mimetype": "text/x-python",
   "name": "python",
   "nbconvert_exporter": "python",
   "pygments_lexer": "ipython3",
   "version": "3.8.8"
  },
  "orig_nbformat": 4
 },
 "nbformat": 4,
 "nbformat_minor": 2
}
