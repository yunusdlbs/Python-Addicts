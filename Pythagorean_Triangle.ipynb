{
 "cells": [
  {
   "cell_type": "markdown",
   "metadata": {},
   "source": [
    "**Write a program that prints the numbers from 1 to 100 that form a pythagorean triangle. For exam:3 4 5**"
   ]
  },
  {
   "cell_type": "code",
   "execution_count": null,
   "metadata": {},
   "outputs": [],
   "source": [
    "for i in range(1,100):\n",
    "    for j in range(i,100):\n",
    "        for k in range(j,100):\n",
    "            if i**2+j**2==k**2:\n",
    "                print(f\"{i},{j} and {k} are pythagorean triangle\")\n",
    "                "
   ]
  },
  {
   "cell_type": "markdown",
   "metadata": {},
   "source": [
    "**Write a Python program to remove the characters which have odd index values of a given string**"
   ]
  },
  {
   "cell_type": "markdown",
   "metadata": {},
   "source": [
    "**Write a Python program to remove the characters which have odd index values of a given string**"
   ]
  },
  {
   "cell_type": "code",
   "execution_count": 10,
   "metadata": {},
   "outputs": [
    {
     "name": "stdout",
     "output_type": "stream",
     "text": [
      "yns\n"
     ]
    }
   ],
   "source": [
    "kelime=input(\"Kelimenizi Giriniz: \")\n",
    "yeni_kelime=\"\"\n",
    "for i in range(0,len(kelime),2):\n",
    "    yeni_kelime+=kelime[i]\n",
    "print(yeni_kelime)\n",
    "    "
   ]
  },
  {
   "cell_type": "code",
   "execution_count": null,
   "metadata": {},
   "outputs": [],
   "source": [
    "kelime = input(\"\")\n",
    "y_kelime = \"\"\n",
    "for i in range(len(kelime)) :\n",
    "  if i % 2 == 0 :\n",
    "    y_kelime += kelime[i]\n",
    "print(y_kelime)"
   ]
  }
 ],
 "metadata": {
  "interpreter": {
   "hash": "7ab61a255b6867ef474189ae238c336a6eead17191aa9bdb1d8c56064dca81da"
  },
  "kernelspec": {
   "display_name": "Python 3.10.1 64-bit",
   "language": "python",
   "name": "python3"
  },
  "language_info": {
   "codemirror_mode": {
    "name": "ipython",
    "version": 3
   },
   "file_extension": ".py",
   "mimetype": "text/x-python",
   "name": "python",
   "nbconvert_exporter": "python",
   "pygments_lexer": "ipython3",
   "version": "3.10.1"
  },
  "orig_nbformat": 4
 },
 "nbformat": 4,
 "nbformat_minor": 2
}
