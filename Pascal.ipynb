{
 "cells": [
  {
   "cell_type": "markdown",
   "metadata": {},
   "source": [
    "**Write Python codes that calculate the digits of pascal's triangle as many as the number of digits received from the user.**\n",
    "\n",
    "**İnput:6**\n",
    "\n",
    "**Output:**\n",
    "\n",
    "**[1]**\n",
    "\n",
    "**[1, 1]**\n",
    "\n",
    "**[1, 2, 1]**\n",
    "\n",
    "**[1, 3, 3, 1]**\n",
    "\n",
    "**[1, 4, 6, 4, 1]**\n",
    "\n",
    "**[1, 5, 10, 10, 5, 1]**\n"
   ]
  },
  {
   "cell_type": "code",
   "execution_count": 5,
   "metadata": {},
   "outputs": [
    {
     "name": "stdout",
     "output_type": "stream",
     "text": [
      "[1]\n",
      "[1, 1]\n",
      "[1, 2, 1]\n",
      "[1, 3, 3, 1]\n",
      "[1, 4, 6, 4, 1]\n",
      "[1, 5, 10, 10, 5, 1]\n",
      "[1, 6, 15, 20, 15, 6, 1]\n"
     ]
    }
   ],
   "source": [
    "num=int(input(\"Enter your positive number for the power: \"))\n",
    "pascal=[[1],[1,1]]\n",
    "if num==0: print(pascal[0])\n",
    "elif num==1: \n",
    "    print(pascal[0], pascal[1], end=\"\\n\")\n",
    "else: \n",
    "    for i in range(2,num):\n",
    "        liste=[1]\n",
    "        for j in range(1,i):\n",
    "            liste.append(pascal[i-1][j-1]+pascal[i-1][j])\n",
    "        liste.append(1)\n",
    "        pascal.append(liste)\n",
    "for i in pascal:\n",
    "    print(i)"
   ]
  },
  {
   "cell_type": "code",
   "execution_count": null,
   "metadata": {},
   "outputs": [],
   "source": [
    "n = int(input(\"\"))\n",
    "for i in range(n) :\n",
    "  print(list(str(11 ** i)))"
   ]
  }
 ],
 "metadata": {
  "interpreter": {
   "hash": "7ab61a255b6867ef474189ae238c336a6eead17191aa9bdb1d8c56064dca81da"
  },
  "kernelspec": {
   "display_name": "Python 3.10.1 64-bit",
   "language": "python",
   "name": "python3"
  },
  "language_info": {
   "codemirror_mode": {
    "name": "ipython",
    "version": 3
   },
   "file_extension": ".py",
   "mimetype": "text/x-python",
   "name": "python",
   "nbconvert_exporter": "python",
   "pygments_lexer": "ipython3",
   "version": "3.10.1"
  },
  "orig_nbformat": 4
 },
 "nbformat": 4,
 "nbformat_minor": 2
}
